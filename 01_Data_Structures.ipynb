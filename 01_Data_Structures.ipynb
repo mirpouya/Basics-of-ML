{
  "nbformat": 4,
  "nbformat_minor": 0,
  "metadata": {
    "colab": {
      "provenance": [],
      "authorship_tag": "ABX9TyMW8DnvS+lMUp/+oZpijPUZ",
      "include_colab_link": true
    },
    "kernelspec": {
      "name": "python3",
      "display_name": "Python 3"
    },
    "language_info": {
      "name": "python"
    }
  },
  "cells": [
    {
      "cell_type": "markdown",
      "metadata": {
        "id": "view-in-github",
        "colab_type": "text"
      },
      "source": [
        "<a href=\"https://colab.research.google.com/github/mirpouya/Basics-of-ML/blob/main/01_Data_Structures.ipynb\" target=\"_parent\"><img src=\"https://colab.research.google.com/assets/colab-badge.svg\" alt=\"Open In Colab\"/></a>"
      ]
    },
    {
      "cell_type": "markdown",
      "source": [
        "<h2>Lists</h2>\n",
        "<h2>Tuples</h2>\n",
        "<h2>Sets</h2>\n",
        "<h2>Dictionaries</h2>"
      ],
      "metadata": {
        "id": "GiARkR8jN7b1"
      }
    },
    {
      "cell_type": "markdown",
      "source": [
        "* Lists : Ordered - Changable - Duplicates\n",
        "* Tuples : Ordered - Unchangable - Duplicates\n",
        "* Sets : Unordered - Addable/Removable - No Duplicates\n",
        "* Dictionaries : Unordered - Changable - No Duplicates"
      ],
      "metadata": {
        "id": "4uuSL12uR_p2"
      }
    },
    {
      "cell_type": "code",
      "source": [
        "my_list = [1,2,3,\"name\",3]\n",
        "my_set = {1,2,3,\"name\",3}\n",
        "my_tuple = (1,2,3,\"name\",3)\n",
        "my_dict = {\"Name\":\"Pouya\", 2:23}"
      ],
      "metadata": {
        "id": "m8PBsCHeOMud"
      },
      "execution_count": 1,
      "outputs": []
    },
    {
      "cell_type": "code",
      "source": [
        "# check types\n",
        "print(f\"the type of my_list is : {type(my_list)}\")\n",
        "print(f\"the type of my_set is : {type(my_set)}\")\n",
        "print(f\"the type of my_tuple is : {type(my_tuple)}\")\n",
        "print(f\"the type of my_dict is : {type(my_dict)}\")"
      ],
      "metadata": {
        "colab": {
          "base_uri": "https://localhost:8080/"
        },
        "id": "jKE6vEeJRXwg",
        "outputId": "525d2017-70b8-44d6-9eeb-29eb8d1a74e2"
      },
      "execution_count": 2,
      "outputs": [
        {
          "output_type": "stream",
          "name": "stdout",
          "text": [
            "the type of my_list is : <class 'list'>\n",
            "the type of my_set is : <class 'set'>\n",
            "the type of my_tuple is : <class 'tuple'>\n",
            "the type of my_dict is : <class 'dict'>\n"
          ]
        }
      ]
    },
    {
      "cell_type": "code",
      "source": [
        "# accessing the values in Lists, Tuples, Sets, and Dictionaries\n",
        "print(my_list[2])\n",
        "print(my_tuple[2])\n",
        "print(3 in my_set)\n",
        "print(my_dict[2])"
      ],
      "metadata": {
        "colab": {
          "base_uri": "https://localhost:8080/"
        },
        "id": "5KGcdvxOTkf4",
        "outputId": "1c899dd5-a71f-4e0d-b10d-d28422deb3ac"
      },
      "execution_count": 3,
      "outputs": [
        {
          "output_type": "stream",
          "name": "stdout",
          "text": [
            "3\n",
            "3\n",
            "True\n",
            "23\n"
          ]
        }
      ]
    },
    {
      "cell_type": "markdown",
      "source": [
        "<h3> Operations </h3>"
      ],
      "metadata": {
        "id": "EQDCiY2EVHm3"
      }
    },
    {
      "cell_type": "code",
      "source": [
        "my_list"
      ],
      "metadata": {
        "colab": {
          "base_uri": "https://localhost:8080/"
        },
        "id": "ZS-C-YkvUU0_",
        "outputId": "34415c7c-d79e-4123-c7c8-aaa924fd9b97"
      },
      "execution_count": 4,
      "outputs": [
        {
          "output_type": "execute_result",
          "data": {
            "text/plain": [
              "[1, 2, 3, 'name', 3]"
            ]
          },
          "metadata": {},
          "execution_count": 4
        }
      ]
    },
    {
      "cell_type": "code",
      "source": [
        "# revesing the whole list\n",
        "my_list[::-1]"
      ],
      "metadata": {
        "colab": {
          "base_uri": "https://localhost:8080/"
        },
        "id": "tew7atVPVLEs",
        "outputId": "5a010861-d9ce-41e1-cf6e-1a54bcacaa33"
      },
      "execution_count": 5,
      "outputs": [
        {
          "output_type": "execute_result",
          "data": {
            "text/plain": [
              "[3, 'name', 3, 2, 1]"
            ]
          },
          "metadata": {},
          "execution_count": 5
        }
      ]
    },
    {
      "cell_type": "code",
      "source": [
        "my_list[2:]"
      ],
      "metadata": {
        "colab": {
          "base_uri": "https://localhost:8080/"
        },
        "id": "pxDqWydtVaVA",
        "outputId": "b30a37fd-838c-42f5-d658-62b5200d6067"
      },
      "execution_count": 6,
      "outputs": [
        {
          "output_type": "execute_result",
          "data": {
            "text/plain": [
              "[3, 'name', 3]"
            ]
          },
          "metadata": {},
          "execution_count": 6
        }
      ]
    },
    {
      "cell_type": "code",
      "source": [
        "my_list[1:]"
      ],
      "metadata": {
        "colab": {
          "base_uri": "https://localhost:8080/"
        },
        "id": "KkW731ygV26A",
        "outputId": "03954f05-913a-41ee-88e6-af22ab25e3d0"
      },
      "execution_count": 7,
      "outputs": [
        {
          "output_type": "execute_result",
          "data": {
            "text/plain": [
              "[2, 3, 'name', 3]"
            ]
          },
          "metadata": {},
          "execution_count": 7
        }
      ]
    },
    {
      "cell_type": "code",
      "source": [
        "# append item to the list\n",
        "my_list.append([\"hey\",\"I\",\"am\",\"Pouya\"])\n",
        "my_list"
      ],
      "metadata": {
        "colab": {
          "base_uri": "https://localhost:8080/"
        },
        "id": "ySGdg0B5V5wa",
        "outputId": "698e4492-81ee-45ee-93fe-c1d2a9277814"
      },
      "execution_count": 8,
      "outputs": [
        {
          "output_type": "execute_result",
          "data": {
            "text/plain": [
              "[1, 2, 3, 'name', 3, ['hey', 'I', 'am', 'Pouya']]"
            ]
          },
          "metadata": {},
          "execution_count": 8
        }
      ]
    },
    {
      "cell_type": "code",
      "source": [
        "# delete item in the list by index\n",
        "del my_list[5]\n",
        "my_list"
      ],
      "metadata": {
        "colab": {
          "base_uri": "https://localhost:8080/"
        },
        "id": "XQzoemfriT3m",
        "outputId": "5bdc0066-999a-48b7-df41-330dbffc5153"
      },
      "execution_count": 9,
      "outputs": [
        {
          "output_type": "execute_result",
          "data": {
            "text/plain": [
              "[1, 2, 3, 'name', 3]"
            ]
          },
          "metadata": {},
          "execution_count": 9
        }
      ]
    },
    {
      "cell_type": "code",
      "source": [
        "# Tuples\n",
        "# tuples can not change once they are defined\n",
        "\n",
        "tuple2 = (1,2, \"Desk\", \"cat\", [1,2,3])\n",
        "my_tuple2 = my_tuple + tuple2\n",
        "my_tuple2"
      ],
      "metadata": {
        "colab": {
          "base_uri": "https://localhost:8080/"
        },
        "id": "h9mizvxdifvk",
        "outputId": "e69f6e83-5ce9-4dc1-cdfc-348506368adc"
      },
      "execution_count": 10,
      "outputs": [
        {
          "output_type": "execute_result",
          "data": {
            "text/plain": [
              "(1, 2, 3, 'name', 3, 1, 2, 'Desk', 'cat', [1, 2, 3])"
            ]
          },
          "metadata": {},
          "execution_count": 10
        }
      ]
    },
    {
      "cell_type": "code",
      "source": [
        "# adding element to sets\n",
        "my_set"
      ],
      "metadata": {
        "colab": {
          "base_uri": "https://localhost:8080/"
        },
        "id": "daHKta3YjQ0h",
        "outputId": "8c59760f-0853-4925-cb00-40bea8c46867"
      },
      "execution_count": 11,
      "outputs": [
        {
          "output_type": "execute_result",
          "data": {
            "text/plain": [
              "{1, 2, 3, 'name'}"
            ]
          },
          "metadata": {},
          "execution_count": 11
        }
      ]
    },
    {
      "cell_type": "code",
      "source": [
        "my_set.add(\"Desk\")\n",
        "my_set\n",
        "\n",
        "# .add is only used when you want to insert one elemtn"
      ],
      "metadata": {
        "colab": {
          "base_uri": "https://localhost:8080/"
        },
        "id": "SwjgRGZzjmUk",
        "outputId": "dd24e219-1a42-4a5d-c79a-559a21279614"
      },
      "execution_count": 13,
      "outputs": [
        {
          "output_type": "execute_result",
          "data": {
            "text/plain": [
              "{1, 2, 3, 'Desk', 'name'}"
            ]
          },
          "metadata": {},
          "execution_count": 13
        }
      ]
    },
    {
      "cell_type": "code",
      "source": [
        "# for adding multiple components we use .update\n",
        "\n",
        "my_set.update({\"Musical instrument\", \"Wooden Desk\"})\n",
        "my_set"
      ],
      "metadata": {
        "colab": {
          "base_uri": "https://localhost:8080/"
        },
        "id": "BuUcAoWujoi-",
        "outputId": "275baf4d-5873-428b-8c94-128ddd1f0ab5"
      },
      "execution_count": 15,
      "outputs": [
        {
          "output_type": "execute_result",
          "data": {
            "text/plain": [
              "{1, 2, 3, 'Desk', 'Musical instrument', 'Wooden Desk', 'name'}"
            ]
          },
          "metadata": {},
          "execution_count": 15
        }
      ]
    },
    {
      "cell_type": "code",
      "source": [
        "# add items to dictionary\n",
        "\n",
        "my_dict"
      ],
      "metadata": {
        "colab": {
          "base_uri": "https://localhost:8080/"
        },
        "id": "W0FSR2mLkM4a",
        "outputId": "b59420bb-84d0-46b1-90c4-86bc18360469"
      },
      "execution_count": 16,
      "outputs": [
        {
          "output_type": "execute_result",
          "data": {
            "text/plain": [
              "{'Name': 'Pouya', 2: 23}"
            ]
          },
          "metadata": {},
          "execution_count": 16
        }
      ]
    },
    {
      "cell_type": "code",
      "source": [
        "my_dict[\"age\"] = 1234\n",
        "my_dict"
      ],
      "metadata": {
        "colab": {
          "base_uri": "https://localhost:8080/"
        },
        "id": "91M686DskhXJ",
        "outputId": "19270101-d0f1-4be8-f23a-625ffd4b8636"
      },
      "execution_count": 17,
      "outputs": [
        {
          "output_type": "execute_result",
          "data": {
            "text/plain": [
              "{'Name': 'Pouya', 2: 23, 'age': 1234}"
            ]
          },
          "metadata": {},
          "execution_count": 17
        }
      ]
    },
    {
      "cell_type": "code",
      "source": [
        "# removing item from sets\n",
        "\n",
        "my_set.remove(\"name\")"
      ],
      "metadata": {
        "id": "_drQMdUHkn_y"
      },
      "execution_count": 19,
      "outputs": []
    },
    {
      "cell_type": "code",
      "source": [
        "my_set"
      ],
      "metadata": {
        "colab": {
          "base_uri": "https://localhost:8080/"
        },
        "id": "lGRSIzeuk7yG",
        "outputId": "9456e24d-3815-463f-89b9-43cd8516523c"
      },
      "execution_count": 20,
      "outputs": [
        {
          "output_type": "execute_result",
          "data": {
            "text/plain": [
              "{1, 2, 3, 'Desk', 'Musical instrument', 'Wooden Desk'}"
            ]
          },
          "metadata": {},
          "execution_count": 20
        }
      ]
    },
    {
      "cell_type": "code",
      "source": [
        "my_set.add(\"name\")\n",
        "my_set"
      ],
      "metadata": {
        "colab": {
          "base_uri": "https://localhost:8080/"
        },
        "id": "38blQcfrlQBj",
        "outputId": "a0d1c210-9533-405f-a395-41ec3b4fc8ea"
      },
      "execution_count": 22,
      "outputs": [
        {
          "output_type": "execute_result",
          "data": {
            "text/plain": [
              "{1, 2, 3, 'Desk', 'Musical instrument', 'Wooden Desk', 'name'}"
            ]
          },
          "metadata": {},
          "execution_count": 22
        }
      ]
    },
    {
      "cell_type": "code",
      "source": [
        "# adding element to dictionaries\n",
        "\n",
        "dict2 = {\"job\":\"unemployed\", \"phone number\":\"None of your business\"}\n",
        "my_dict.update(dict2)\n",
        "my_dict"
      ],
      "metadata": {
        "colab": {
          "base_uri": "https://localhost:8080/"
        },
        "id": "dPMgwarYlUzi",
        "outputId": "cf2d98a7-426a-46d5-9349-821da85aedf5"
      },
      "execution_count": 23,
      "outputs": [
        {
          "output_type": "execute_result",
          "data": {
            "text/plain": [
              "{'Name': 'Pouya',\n",
              " 2: 23,\n",
              " 'age': 1234,\n",
              " 'job': 'unemployed',\n",
              " 'phone number': 'None of your business'}"
            ]
          },
          "metadata": {},
          "execution_count": 23
        }
      ]
    },
    {
      "cell_type": "code",
      "source": [
        "# important note on lists\n",
        "\n",
        "l1 = [\"item 0\", \"item 1\", \"item 2\", \"item 3\"]\n",
        "l2 = l1\n",
        "\n",
        "del l1[2]\n",
        "\n",
        "l2"
      ],
      "metadata": {
        "colab": {
          "base_uri": "https://localhost:8080/"
        },
        "id": "6z0oQnbvmDrg",
        "outputId": "4374692b-29fa-4d99-debe-d050326fc1b8"
      },
      "execution_count": 24,
      "outputs": [
        {
          "output_type": "execute_result",
          "data": {
            "text/plain": [
              "['item 0', 'item 1', 'item 3']"
            ]
          },
          "metadata": {},
          "execution_count": 24
        }
      ]
    },
    {
      "cell_type": "code",
      "source": [
        "# so, for copying elements of a list into another list we can do:\n",
        "\n",
        "l1 = [\"item 0\", \"item 1\", \"item 2\", \"item 3\"]\n",
        "\n",
        "l2 = l1.copy()\n",
        "l2\n",
        "\n",
        "# same thing goes for dictionaries and sets"
      ],
      "metadata": {
        "colab": {
          "base_uri": "https://localhost:8080/"
        },
        "id": "NlRyUjcUmkCk",
        "outputId": "5ea5e580-98d7-47b5-ee84-116d367cfdd6"
      },
      "execution_count": 27,
      "outputs": [
        {
          "output_type": "execute_result",
          "data": {
            "text/plain": [
              "['item 0', 'item 1', 'item 2', 'item 3']"
            ]
          },
          "metadata": {},
          "execution_count": 27
        }
      ]
    },
    {
      "cell_type": "code",
      "source": [],
      "metadata": {
        "id": "xE7CMneXmyAk"
      },
      "execution_count": null,
      "outputs": []
    }
  ]
}