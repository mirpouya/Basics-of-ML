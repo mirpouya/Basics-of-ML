{
  "nbformat": 4,
  "nbformat_minor": 0,
  "metadata": {
    "colab": {
      "provenance": [],
      "authorship_tag": "ABX9TyMcnNhw0naQe6YyQovbjFFc",
      "include_colab_link": true
    },
    "kernelspec": {
      "name": "python3",
      "display_name": "Python 3"
    },
    "language_info": {
      "name": "python"
    }
  },
  "cells": [
    {
      "cell_type": "markdown",
      "metadata": {
        "id": "view-in-github",
        "colab_type": "text"
      },
      "source": [
        "<a href=\"https://colab.research.google.com/github/mirpouya/Basics-of-ML/blob/main/01_Data_Structures.ipynb\" target=\"_parent\"><img src=\"https://colab.research.google.com/assets/colab-badge.svg\" alt=\"Open In Colab\"/></a>"
      ]
    },
    {
      "cell_type": "markdown",
      "source": [
        "<h2>Lists</h2>\n",
        "<h2>Tuples</h2>\n",
        "<h2>Sets</h2>\n",
        "<h2>Dictionaries</h2>"
      ],
      "metadata": {
        "id": "GiARkR8jN7b1"
      }
    },
    {
      "cell_type": "markdown",
      "source": [
        "* Lists : Ordered - Changable - Duplicates\n",
        "* Tuples : Ordered - Unchangable - Duplicates\n",
        "* Sets : Unordered - Addable/Removable - No Duplicates\n",
        "* Dictionaries : Unordered - Changable - No Duplicates"
      ],
      "metadata": {
        "id": "4uuSL12uR_p2"
      }
    },
    {
      "cell_type": "code",
      "source": [
        "my_list = [1,2,3,\"name\",3]\n",
        "my_set = {1,2,3,\"name\",3}\n",
        "my_tuple = (1,2,3,\"name\",3)\n",
        "my_dict = {\"Name\":\"Pouya\", 2:23}"
      ],
      "metadata": {
        "id": "m8PBsCHeOMud"
      },
      "execution_count": 1,
      "outputs": []
    },
    {
      "cell_type": "code",
      "source": [
        "# check types\n",
        "print(f\"the type of my_list is : {type(my_list)}\")\n",
        "print(f\"the type of my_set is : {type(my_set)}\")\n",
        "print(f\"the type of my_tuple is : {type(my_tuple)}\")\n",
        "print(f\"the type of my_dict is : {type(my_dict)}\")"
      ],
      "metadata": {
        "colab": {
          "base_uri": "https://localhost:8080/"
        },
        "id": "jKE6vEeJRXwg",
        "outputId": "525d2017-70b8-44d6-9eeb-29eb8d1a74e2"
      },
      "execution_count": 2,
      "outputs": [
        {
          "output_type": "stream",
          "name": "stdout",
          "text": [
            "the type of my_list is : <class 'list'>\n",
            "the type of my_set is : <class 'set'>\n",
            "the type of my_tuple is : <class 'tuple'>\n",
            "the type of my_dict is : <class 'dict'>\n"
          ]
        }
      ]
    },
    {
      "cell_type": "code",
      "source": [
        "# accessing the values in Lists, Tuples, Sets, and Dictionaries\n",
        "print(my_list[2])\n",
        "print(my_tuple[2])\n",
        "print(3 in my_set)\n",
        "print(my_dict[2])"
      ],
      "metadata": {
        "colab": {
          "base_uri": "https://localhost:8080/"
        },
        "id": "5KGcdvxOTkf4",
        "outputId": "1c899dd5-a71f-4e0d-b10d-d28422deb3ac"
      },
      "execution_count": 3,
      "outputs": [
        {
          "output_type": "stream",
          "name": "stdout",
          "text": [
            "3\n",
            "3\n",
            "True\n",
            "23\n"
          ]
        }
      ]
    },
    {
      "cell_type": "markdown",
      "source": [
        "<h3> Lists </h3>"
      ],
      "metadata": {
        "id": "EQDCiY2EVHm3"
      }
    },
    {
      "cell_type": "code",
      "source": [
        "my_list"
      ],
      "metadata": {
        "colab": {
          "base_uri": "https://localhost:8080/"
        },
        "id": "ZS-C-YkvUU0_",
        "outputId": "34415c7c-d79e-4123-c7c8-aaa924fd9b97"
      },
      "execution_count": 4,
      "outputs": [
        {
          "output_type": "execute_result",
          "data": {
            "text/plain": [
              "[1, 2, 3, 'name', 3]"
            ]
          },
          "metadata": {},
          "execution_count": 4
        }
      ]
    },
    {
      "cell_type": "code",
      "source": [
        "# revesing the whole list\n",
        "my_list[::-1]"
      ],
      "metadata": {
        "colab": {
          "base_uri": "https://localhost:8080/"
        },
        "id": "tew7atVPVLEs",
        "outputId": "5a010861-d9ce-41e1-cf6e-1a54bcacaa33"
      },
      "execution_count": 5,
      "outputs": [
        {
          "output_type": "execute_result",
          "data": {
            "text/plain": [
              "[3, 'name', 3, 2, 1]"
            ]
          },
          "metadata": {},
          "execution_count": 5
        }
      ]
    },
    {
      "cell_type": "code",
      "source": [
        "my_list[2:]"
      ],
      "metadata": {
        "colab": {
          "base_uri": "https://localhost:8080/"
        },
        "id": "pxDqWydtVaVA",
        "outputId": "b30a37fd-838c-42f5-d658-62b5200d6067"
      },
      "execution_count": 6,
      "outputs": [
        {
          "output_type": "execute_result",
          "data": {
            "text/plain": [
              "[3, 'name', 3]"
            ]
          },
          "metadata": {},
          "execution_count": 6
        }
      ]
    },
    {
      "cell_type": "code",
      "source": [
        "my_list[1:]"
      ],
      "metadata": {
        "colab": {
          "base_uri": "https://localhost:8080/"
        },
        "id": "KkW731ygV26A",
        "outputId": "03954f05-913a-41ee-88e6-af22ab25e3d0"
      },
      "execution_count": 7,
      "outputs": [
        {
          "output_type": "execute_result",
          "data": {
            "text/plain": [
              "[2, 3, 'name', 3]"
            ]
          },
          "metadata": {},
          "execution_count": 7
        }
      ]
    },
    {
      "cell_type": "code",
      "source": [
        "# append item to the list\n",
        "my_list.append([\"hey\",\"I\",\"am\",\"Pouya\"])\n",
        "my_list"
      ],
      "metadata": {
        "colab": {
          "base_uri": "https://localhost:8080/"
        },
        "id": "ySGdg0B5V5wa",
        "outputId": "698e4492-81ee-45ee-93fe-c1d2a9277814"
      },
      "execution_count": 8,
      "outputs": [
        {
          "output_type": "execute_result",
          "data": {
            "text/plain": [
              "[1, 2, 3, 'name', 3, ['hey', 'I', 'am', 'Pouya']]"
            ]
          },
          "metadata": {},
          "execution_count": 8
        }
      ]
    },
    {
      "cell_type": "code",
      "source": [
        "# delete item in the list by index\n",
        "del my_list[5]\n",
        "my_list"
      ],
      "metadata": {
        "colab": {
          "base_uri": "https://localhost:8080/"
        },
        "id": "XQzoemfriT3m",
        "outputId": "5bdc0066-999a-48b7-df41-330dbffc5153"
      },
      "execution_count": 9,
      "outputs": [
        {
          "output_type": "execute_result",
          "data": {
            "text/plain": [
              "[1, 2, 3, 'name', 3]"
            ]
          },
          "metadata": {},
          "execution_count": 9
        }
      ]
    },
    {
      "cell_type": "code",
      "source": [],
      "metadata": {
        "id": "h9mizvxdifvk"
      },
      "execution_count": 9,
      "outputs": []
    }
  ]
}