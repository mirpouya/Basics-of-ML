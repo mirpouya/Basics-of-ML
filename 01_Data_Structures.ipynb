{
  "nbformat": 4,
  "nbformat_minor": 0,
  "metadata": {
    "colab": {
      "provenance": [],
      "authorship_tag": "ABX9TyNTdCfRBXCCsjuQdofdSqBd",
      "include_colab_link": true
    },
    "kernelspec": {
      "name": "python3",
      "display_name": "Python 3"
    },
    "language_info": {
      "name": "python"
    }
  },
  "cells": [
    {
      "cell_type": "markdown",
      "metadata": {
        "id": "view-in-github",
        "colab_type": "text"
      },
      "source": [
        "<a href=\"https://colab.research.google.com/github/mirpouya/Basics-of-ML/blob/main/01_Data_Structures.ipynb\" target=\"_parent\"><img src=\"https://colab.research.google.com/assets/colab-badge.svg\" alt=\"Open In Colab\"/></a>"
      ]
    },
    {
      "cell_type": "markdown",
      "source": [
        "<h2>Lists</h2>\n",
        "<h2>Tuples</h2>\n",
        "<h2>Sets</h2>\n",
        "<h2>Dictionaries</h2>"
      ],
      "metadata": {
        "id": "GiARkR8jN7b1"
      }
    },
    {
      "cell_type": "markdown",
      "source": [
        "* Lists : Ordered - Changable - Duplicates\n",
        "* Tuples : Ordered - Unchangable - Duplicates\n",
        "* Sets : Unordered - Addable/Removable - No Duplicates\n",
        "* Dictionaries : Unordered - Changable - No Duplicates"
      ],
      "metadata": {
        "id": "4uuSL12uR_p2"
      }
    },
    {
      "cell_type": "code",
      "source": [
        "my_list = [1,2,3,\"name\",3]\n",
        "my_set = {1,2,3,\"name\",3}\n",
        "my_tuple = (1,2,3,\"name\",3)\n",
        "my_dict = {\"Name\":\"Pouya\", 2:23}"
      ],
      "metadata": {
        "id": "m8PBsCHeOMud"
      },
      "execution_count": 2,
      "outputs": []
    },
    {
      "cell_type": "code",
      "source": [
        "# check types\n",
        "print(f\"the type of my_list is : {type(my_list)}\")\n",
        "print(f\"the type of my_set is : {type(my_set)}\")\n",
        "print(f\"the type of my_tuple is : {type(my_tuple)}\")\n",
        "print(f\"the type of my_dict is : {type(my_dict)}\")"
      ],
      "metadata": {
        "colab": {
          "base_uri": "https://localhost:8080/"
        },
        "id": "jKE6vEeJRXwg",
        "outputId": "b696c165-2b78-4fec-e4c9-d467122dc840"
      },
      "execution_count": 3,
      "outputs": [
        {
          "output_type": "stream",
          "name": "stdout",
          "text": [
            "the type of my_list is : <class 'list'>\n",
            "the type of my_set is : <class 'set'>\n",
            "the type of my_tuple is : <class 'tuple'>\n",
            "the type of my_dict is : <class 'dict'>\n"
          ]
        }
      ]
    },
    {
      "cell_type": "code",
      "source": [
        "# accessing the values in Lists, Tuples, Sets, and Dictionaries\n",
        "print(my_list[2])\n",
        "print(my_tuple[2])\n",
        "print(3 in my_set)\n",
        "print(my_dict[2])"
      ],
      "metadata": {
        "colab": {
          "base_uri": "https://localhost:8080/"
        },
        "id": "5KGcdvxOTkf4",
        "outputId": "96c3fd4a-f288-4afa-bb27-bc73081d1702"
      },
      "execution_count": 4,
      "outputs": [
        {
          "output_type": "stream",
          "name": "stdout",
          "text": [
            "3\n",
            "3\n",
            "True\n",
            "23\n"
          ]
        }
      ]
    },
    {
      "cell_type": "markdown",
      "source": [
        "<h3> Operations </h3>"
      ],
      "metadata": {
        "id": "EQDCiY2EVHm3"
      }
    },
    {
      "cell_type": "code",
      "source": [
        "my_list"
      ],
      "metadata": {
        "colab": {
          "base_uri": "https://localhost:8080/"
        },
        "id": "ZS-C-YkvUU0_",
        "outputId": "72815a0f-6ceb-49d9-b9de-174b367fec10"
      },
      "execution_count": 5,
      "outputs": [
        {
          "output_type": "execute_result",
          "data": {
            "text/plain": [
              "[1, 2, 3, 'name', 3]"
            ]
          },
          "metadata": {},
          "execution_count": 5
        }
      ]
    },
    {
      "cell_type": "code",
      "source": [
        "# revesing the whole list\n",
        "my_list[::-1]"
      ],
      "metadata": {
        "colab": {
          "base_uri": "https://localhost:8080/"
        },
        "id": "tew7atVPVLEs",
        "outputId": "989a44ae-9107-4cfe-d972-93e52cf2e48e"
      },
      "execution_count": 6,
      "outputs": [
        {
          "output_type": "execute_result",
          "data": {
            "text/plain": [
              "[3, 'name', 3, 2, 1]"
            ]
          },
          "metadata": {},
          "execution_count": 6
        }
      ]
    },
    {
      "cell_type": "code",
      "source": [
        "my_list[2:]"
      ],
      "metadata": {
        "colab": {
          "base_uri": "https://localhost:8080/"
        },
        "id": "pxDqWydtVaVA",
        "outputId": "0de0b4c2-9225-4c4c-8fe6-f1a4068bf15f"
      },
      "execution_count": 7,
      "outputs": [
        {
          "output_type": "execute_result",
          "data": {
            "text/plain": [
              "[3, 'name', 3]"
            ]
          },
          "metadata": {},
          "execution_count": 7
        }
      ]
    },
    {
      "cell_type": "code",
      "source": [
        "my_list[1:]"
      ],
      "metadata": {
        "colab": {
          "base_uri": "https://localhost:8080/"
        },
        "id": "KkW731ygV26A",
        "outputId": "035207cc-9c47-49d7-84ca-4a7bf2e11e82"
      },
      "execution_count": 8,
      "outputs": [
        {
          "output_type": "execute_result",
          "data": {
            "text/plain": [
              "[2, 3, 'name', 3]"
            ]
          },
          "metadata": {},
          "execution_count": 8
        }
      ]
    },
    {
      "cell_type": "code",
      "source": [
        "# append item to the list\n",
        "my_list.append([\"hey\",\"I\",\"am\",\"Pouya\"])\n",
        "my_list"
      ],
      "metadata": {
        "colab": {
          "base_uri": "https://localhost:8080/"
        },
        "id": "ySGdg0B5V5wa",
        "outputId": "092b4cae-b748-40c6-9dff-b900c61e54fd"
      },
      "execution_count": 9,
      "outputs": [
        {
          "output_type": "execute_result",
          "data": {
            "text/plain": [
              "[1, 2, 3, 'name', 3, ['hey', 'I', 'am', 'Pouya']]"
            ]
          },
          "metadata": {},
          "execution_count": 9
        }
      ]
    },
    {
      "cell_type": "code",
      "source": [
        "# delete item in the list by index\n",
        "del my_list[5]\n",
        "my_list"
      ],
      "metadata": {
        "colab": {
          "base_uri": "https://localhost:8080/"
        },
        "id": "XQzoemfriT3m",
        "outputId": "eedec717-9293-4c6d-e085-3a9b5b7e3b38"
      },
      "execution_count": 10,
      "outputs": [
        {
          "output_type": "execute_result",
          "data": {
            "text/plain": [
              "[1, 2, 3, 'name', 3]"
            ]
          },
          "metadata": {},
          "execution_count": 10
        }
      ]
    },
    {
      "cell_type": "code",
      "source": [
        "# Tuples\n",
        "# tuples can not change once they are defined\n",
        "\n",
        "tuple2 = (1,2, \"Desk\", \"cat\", [1,2,3])\n",
        "my_tuple2 = my_tuple + tuple2\n",
        "my_tuple2"
      ],
      "metadata": {
        "colab": {
          "base_uri": "https://localhost:8080/"
        },
        "id": "h9mizvxdifvk",
        "outputId": "281061fd-7aa6-4315-b49b-6234d950f67b"
      },
      "execution_count": 11,
      "outputs": [
        {
          "output_type": "execute_result",
          "data": {
            "text/plain": [
              "(1, 2, 3, 'name', 3, 1, 2, 'Desk', 'cat', [1, 2, 3])"
            ]
          },
          "metadata": {},
          "execution_count": 11
        }
      ]
    },
    {
      "cell_type": "code",
      "source": [
        "# adding element to sets\n",
        "my_set"
      ],
      "metadata": {
        "colab": {
          "base_uri": "https://localhost:8080/"
        },
        "id": "daHKta3YjQ0h",
        "outputId": "95a5347b-a234-4eb6-af20-02fbf6540062"
      },
      "execution_count": 12,
      "outputs": [
        {
          "output_type": "execute_result",
          "data": {
            "text/plain": [
              "{1, 2, 3, 'name'}"
            ]
          },
          "metadata": {},
          "execution_count": 12
        }
      ]
    },
    {
      "cell_type": "code",
      "source": [
        "my_set.add(\"Desk\")\n",
        "my_set\n",
        "\n",
        "# .add is only used when you want to insert one elemtn"
      ],
      "metadata": {
        "colab": {
          "base_uri": "https://localhost:8080/"
        },
        "id": "SwjgRGZzjmUk",
        "outputId": "4c15617a-9c48-443c-e8ec-ca3a1b46557c"
      },
      "execution_count": 13,
      "outputs": [
        {
          "output_type": "execute_result",
          "data": {
            "text/plain": [
              "{1, 2, 3, 'Desk', 'name'}"
            ]
          },
          "metadata": {},
          "execution_count": 13
        }
      ]
    },
    {
      "cell_type": "code",
      "source": [
        "# for adding multiple components we use .update\n",
        "\n",
        "my_set.update({\"Musical instrument\", \"Wooden Desk\"})\n",
        "my_set"
      ],
      "metadata": {
        "colab": {
          "base_uri": "https://localhost:8080/"
        },
        "id": "BuUcAoWujoi-",
        "outputId": "b8c45b44-4bf2-4a0e-9dd1-528c5f82ac93"
      },
      "execution_count": 14,
      "outputs": [
        {
          "output_type": "execute_result",
          "data": {
            "text/plain": [
              "{1, 2, 3, 'Desk', 'Musical instrument', 'Wooden Desk', 'name'}"
            ]
          },
          "metadata": {},
          "execution_count": 14
        }
      ]
    },
    {
      "cell_type": "code",
      "source": [
        "# add items to dictionary\n",
        "\n",
        "my_dict"
      ],
      "metadata": {
        "colab": {
          "base_uri": "https://localhost:8080/"
        },
        "id": "W0FSR2mLkM4a",
        "outputId": "01aff3e6-45c7-44c6-ee79-a029d8ba8360"
      },
      "execution_count": 15,
      "outputs": [
        {
          "output_type": "execute_result",
          "data": {
            "text/plain": [
              "{'Name': 'Pouya', 2: 23}"
            ]
          },
          "metadata": {},
          "execution_count": 15
        }
      ]
    },
    {
      "cell_type": "code",
      "source": [
        "my_dict[\"age\"] = 1234\n",
        "my_dict"
      ],
      "metadata": {
        "colab": {
          "base_uri": "https://localhost:8080/"
        },
        "id": "91M686DskhXJ",
        "outputId": "5160a999-7083-43e8-c594-2d89a12af5f8"
      },
      "execution_count": 16,
      "outputs": [
        {
          "output_type": "execute_result",
          "data": {
            "text/plain": [
              "{'Name': 'Pouya', 2: 23, 'age': 1234}"
            ]
          },
          "metadata": {},
          "execution_count": 16
        }
      ]
    },
    {
      "cell_type": "code",
      "source": [
        "# removing item from sets\n",
        "\n",
        "my_set.remove(\"name\")"
      ],
      "metadata": {
        "id": "_drQMdUHkn_y"
      },
      "execution_count": 17,
      "outputs": []
    },
    {
      "cell_type": "code",
      "source": [
        "my_set"
      ],
      "metadata": {
        "colab": {
          "base_uri": "https://localhost:8080/"
        },
        "id": "lGRSIzeuk7yG",
        "outputId": "bd728d52-1ae6-4060-d41b-6eb13b53cdf0"
      },
      "execution_count": 18,
      "outputs": [
        {
          "output_type": "execute_result",
          "data": {
            "text/plain": [
              "{1, 2, 3, 'Desk', 'Musical instrument', 'Wooden Desk'}"
            ]
          },
          "metadata": {},
          "execution_count": 18
        }
      ]
    },
    {
      "cell_type": "code",
      "source": [
        "my_set.add(\"name\")\n",
        "my_set"
      ],
      "metadata": {
        "colab": {
          "base_uri": "https://localhost:8080/"
        },
        "id": "38blQcfrlQBj",
        "outputId": "3170a292-4301-4197-b06f-29d73d1c8e4c"
      },
      "execution_count": 19,
      "outputs": [
        {
          "output_type": "execute_result",
          "data": {
            "text/plain": [
              "{1, 2, 3, 'Desk', 'Musical instrument', 'Wooden Desk', 'name'}"
            ]
          },
          "metadata": {},
          "execution_count": 19
        }
      ]
    },
    {
      "cell_type": "code",
      "source": [
        "# adding element to dictionaries\n",
        "\n",
        "dict2 = {\"job\":\"unemployed\", \"phone number\":\"None of your business\"}\n",
        "my_dict.update(dict2)\n",
        "my_dict"
      ],
      "metadata": {
        "colab": {
          "base_uri": "https://localhost:8080/"
        },
        "id": "dPMgwarYlUzi",
        "outputId": "2e99f51c-a88d-4102-cdb0-8b1e96f5baaa"
      },
      "execution_count": 20,
      "outputs": [
        {
          "output_type": "execute_result",
          "data": {
            "text/plain": [
              "{'Name': 'Pouya',\n",
              " 2: 23,\n",
              " 'age': 1234,\n",
              " 'job': 'unemployed',\n",
              " 'phone number': 'None of your business'}"
            ]
          },
          "metadata": {},
          "execution_count": 20
        }
      ]
    },
    {
      "cell_type": "code",
      "source": [
        "# important note on lists\n",
        "\n",
        "l1 = [\"item 0\", \"item 1\", \"item 2\", \"item 3\"]\n",
        "l2 = l1\n",
        "\n",
        "del l1[2]\n",
        "\n",
        "l2"
      ],
      "metadata": {
        "colab": {
          "base_uri": "https://localhost:8080/"
        },
        "id": "6z0oQnbvmDrg",
        "outputId": "279eabaa-362a-44cc-fdad-23e6105b6fce"
      },
      "execution_count": 21,
      "outputs": [
        {
          "output_type": "execute_result",
          "data": {
            "text/plain": [
              "['item 0', 'item 1', 'item 3']"
            ]
          },
          "metadata": {},
          "execution_count": 21
        }
      ]
    },
    {
      "cell_type": "code",
      "source": [
        "# so, for copying elements of a list into another list we can do:\n",
        "\n",
        "l1 = [\"item 0\", \"item 1\", \"item 2\", \"item 3\"]\n",
        "\n",
        "l2 = l1.copy()\n",
        "l2\n",
        "\n",
        "# same thing goes for dictionaries and sets"
      ],
      "metadata": {
        "colab": {
          "base_uri": "https://localhost:8080/"
        },
        "id": "NlRyUjcUmkCk",
        "outputId": "86a08f99-83d8-4d6d-8628-26ab14fa153d"
      },
      "execution_count": 22,
      "outputs": [
        {
          "output_type": "execute_result",
          "data": {
            "text/plain": [
              "['item 0', 'item 1', 'item 2', 'item 3']"
            ]
          },
          "metadata": {},
          "execution_count": 22
        }
      ]
    },
    {
      "cell_type": "markdown",
      "source": [
        "help(...) funciton is one of the best things in python"
      ],
      "metadata": {
        "id": "sj0z4Gw9o6av"
      }
    },
    {
      "cell_type": "code",
      "source": [
        "help(l2.append)"
      ],
      "metadata": {
        "colab": {
          "base_uri": "https://localhost:8080/"
        },
        "id": "xE7CMneXmyAk",
        "outputId": "bb748c05-65c5-45be-b658-7b0c039585af"
      },
      "execution_count": 23,
      "outputs": [
        {
          "output_type": "stream",
          "name": "stdout",
          "text": [
            "Help on built-in function append:\n",
            "\n",
            "append(object, /) method of builtins.list instance\n",
            "    Append object to the end of the list.\n",
            "\n"
          ]
        }
      ]
    },
    {
      "cell_type": "markdown",
      "source": [],
      "metadata": {
        "id": "Bj26FbzGpY5Q"
      }
    },
    {
      "cell_type": "markdown",
      "source": [
        "or we can do:\n",
        "l2.help?\n"
      ],
      "metadata": {
        "id": "eH4KbZ9xpd-f"
      }
    },
    {
      "cell_type": "code",
      "source": [
        "# list of list, set, and dict\n",
        "\n",
        "list_L = [1,2,3,4]\n",
        "set_L = {1,2,3,4}\n",
        "dict_L = {\"a\":1, \"b\":2, \"c\":3, \"d\":4}\n",
        "\n",
        "big_list = [list_L, set_L, dict_L, \"name\", \"pizza\", \"dog\", 1234]\n",
        "big_list"
      ],
      "metadata": {
        "id": "PluiMaONpj_B",
        "outputId": "6c749091-24aa-45b4-ea55-45d0e5d7fe8d",
        "colab": {
          "base_uri": "https://localhost:8080/"
        }
      },
      "execution_count": 24,
      "outputs": [
        {
          "output_type": "execute_result",
          "data": {
            "text/plain": [
              "[[1, 2, 3, 4],\n",
              " {1, 2, 3, 4},\n",
              " {'a': 1, 'b': 2, 'c': 3, 'd': 4},\n",
              " 'name',\n",
              " 'pizza',\n",
              " 'dog',\n",
              " 1234]"
            ]
          },
          "metadata": {},
          "execution_count": 24
        }
      ]
    },
    {
      "cell_type": "code",
      "source": [
        "type(big_list[2])"
      ],
      "metadata": {
        "id": "4AUlPWX2kN2k",
        "outputId": "99a65c5e-cdc2-419a-9dc9-e75bf8e8843c",
        "colab": {
          "base_uri": "https://localhost:8080/"
        }
      },
      "execution_count": 25,
      "outputs": [
        {
          "output_type": "execute_result",
          "data": {
            "text/plain": [
              "dict"
            ]
          },
          "metadata": {},
          "execution_count": 25
        }
      ]
    },
    {
      "cell_type": "code",
      "source": [
        "# create list with loop\n",
        "\n",
        "square_list = [num**2 for num in range(11)]\n",
        "square_list"
      ],
      "metadata": {
        "id": "BfN4LdhokUK2",
        "outputId": "b6a3dfe3-f615-460b-89c6-970aed24109d",
        "colab": {
          "base_uri": "https://localhost:8080/"
        }
      },
      "execution_count": 26,
      "outputs": [
        {
          "output_type": "execute_result",
          "data": {
            "text/plain": [
              "[0, 1, 4, 9, 16, 25, 36, 49, 64, 81, 100]"
            ]
          },
          "metadata": {},
          "execution_count": 26
        }
      ]
    },
    {
      "cell_type": "code",
      "source": [
        "# list of even numbers with loop\n",
        "\n",
        "even_list = [num for num in range(0,25,2)]\n",
        "even_list"
      ],
      "metadata": {
        "id": "IjrjnjREkolJ",
        "outputId": "4673b6fc-a315-4729-f967-924deadcdc06",
        "colab": {
          "base_uri": "https://localhost:8080/"
        }
      },
      "execution_count": 27,
      "outputs": [
        {
          "output_type": "execute_result",
          "data": {
            "text/plain": [
              "[0, 2, 4, 6, 8, 10, 12, 14, 16, 18, 20, 22, 24]"
            ]
          },
          "metadata": {},
          "execution_count": 27
        }
      ]
    },
    {
      "cell_type": "markdown",
      "source": [
        "Example: <br> \n",
        "You are a teacher and you have diferent students. Each students has an id and may have several courses with you. You want to enter all the data into the computer and want to compute the average marks of each student and display."
      ],
      "metadata": {
        "id": "MXWHrSjimWGw"
      }
    },
    {
      "cell_type": "code",
      "source": [
        "# defining a function\n",
        "\n",
        "def getDataFromUser():\n",
        "\n",
        "  student_dict = {}\n",
        "\n",
        "  while True:\n",
        "    student_id = input(\"Enter the student's id: \")\n",
        "    student_grades = input(\"Enter the student's grades by comma separated values: \")\n",
        "    continue_process = input(\"If you want to continue enter y, else enter n: \")\n",
        "    if continue_process.lower() not in [\"y\", \"n\"]:\n",
        "      continue_process = input(\"Invalid input, If you want to continue enter y, else enter n: \")\n",
        "\n",
        "    if student_id in student_dict:\n",
        "      check = input(\"This id is in aleady inserted, do you want to add this mark to his records? Enter y/n: \")\n",
        "      if check == \"y\":\n",
        "        student_dict[student_id].append(student_grades.split(\",\")) \n",
        "      elif check == \"n\":\n",
        "        print(\"Hehe nothing!\")\n",
        "    else:\n",
        "      student_dict[student_id] = student_grades.split(\",\")\n",
        "\n",
        "    if continue_process.lower() == \"n\":\n",
        "      return student_dict"
      ],
      "metadata": {
        "id": "Zdgfcl9vk_7e"
      },
      "execution_count": 28,
      "outputs": []
    },
    {
      "cell_type": "code",
      "source": [
        "student_data = getDataFromUser()"
      ],
      "metadata": {
        "id": "Zz8jY2XEsHoR",
        "outputId": "a6ae9ba3-4b0d-459e-c10d-89b7606773f9",
        "colab": {
          "base_uri": "https://localhost:8080/"
        }
      },
      "execution_count": 29,
      "outputs": [
        {
          "name": "stdout",
          "output_type": "stream",
          "text": [
            "Enter the student's id: 1\n",
            "Enter the student's grades by comma separated values: 12, 17\n",
            "If you want to continue enter y, else enter n: y\n",
            "Enter the student's id: 2\n",
            "Enter the student's grades by comma separated values: 15,18,19,17\n",
            "If you want to continue enter y, else enter n: 15,16.7\n",
            "Invalid input, If you want to continue enter y, else enter n: y\n",
            "Enter the student's id: 3\n",
            "Enter the student's grades by comma separated values: 15.1,16.3,17\n",
            "If you want to continue enter y, else enter n: n\n"
          ]
        }
      ]
    },
    {
      "cell_type": "code",
      "source": [
        "student_data"
      ],
      "metadata": {
        "id": "VZcEkLsbtbQV",
        "outputId": "66fcebce-807e-40b3-8a6d-b711f758220f",
        "colab": {
          "base_uri": "https://localhost:8080/"
        }
      },
      "execution_count": 30,
      "outputs": [
        {
          "output_type": "execute_result",
          "data": {
            "text/plain": [
              "{'1': ['12', ' 17'],\n",
              " '2': ['15', '18', '19', '17'],\n",
              " '3': ['15.1', '16.3', '17']}"
            ]
          },
          "metadata": {},
          "execution_count": 30
        }
      ]
    },
    {
      "cell_type": "code",
      "source": [
        "# changing a list of strings to numbers\n",
        "\n",
        "string_list = [\"16\", \"17\", \"15.01\", \"109\", \"18.78\"]\n",
        "\n",
        "num_list = [float(num) for num in string_list]\n",
        "num_list"
      ],
      "metadata": {
        "id": "RDmG6h0Xt4OQ",
        "outputId": "79b02758-b4c7-4267-9d8d-46146501c282",
        "colab": {
          "base_uri": "https://localhost:8080/"
        }
      },
      "execution_count": 31,
      "outputs": [
        {
          "output_type": "execute_result",
          "data": {
            "text/plain": [
              "[16.0, 17.0, 15.01, 109.0, 18.78]"
            ]
          },
          "metadata": {},
          "execution_count": 31
        }
      ]
    },
    {
      "cell_type": "code",
      "source": [
        "# average numbers in a list\n",
        "\n",
        "num_list_avg = sum(num_list)/ len(num_list)\n",
        "num_list_avg"
      ],
      "metadata": {
        "id": "lW8dNxQWwDRP",
        "outputId": "32426be1-afca-475a-e02c-01ab4e75031e",
        "colab": {
          "base_uri": "https://localhost:8080/"
        }
      },
      "execution_count": 32,
      "outputs": [
        {
          "output_type": "execute_result",
          "data": {
            "text/plain": [
              "35.158"
            ]
          },
          "metadata": {},
          "execution_count": 32
        }
      ]
    },
    {
      "cell_type": "code",
      "source": [
        "# a function to calculate average scores\n",
        "\n",
        "def averageSores(stud_dict):\n",
        "\n",
        "  for student in stud_dict:\n",
        "    avg = sum(stud_dict[student]) / len(stud_dict[student])\n",
        "    stud_dict[student].append({\"average\": avg})\n",
        "  \n",
        "  return stud_dict"
      ],
      "metadata": {
        "id": "vLgU8rCxwXbA"
      },
      "execution_count": 34,
      "outputs": []
    },
    {
      "cell_type": "code",
      "source": [
        "averageSores({\"1\":[1,2,3,4,5]})"
      ],
      "metadata": {
        "id": "XBfqEU-Q2gnB",
        "outputId": "9c870069-03b5-4eef-de94-9a32035bba85",
        "colab": {
          "base_uri": "https://localhost:8080/"
        }
      },
      "execution_count": 35,
      "outputs": [
        {
          "output_type": "execute_result",
          "data": {
            "text/plain": [
              "{'1': [1, 2, 3, 4, 5, {'average': 3.0}]}"
            ]
          },
          "metadata": {},
          "execution_count": 35
        }
      ]
    },
    {
      "cell_type": "code",
      "source": [],
      "metadata": {
        "id": "U-dRZRhJ2rJZ"
      },
      "execution_count": null,
      "outputs": []
    }
  ]
}