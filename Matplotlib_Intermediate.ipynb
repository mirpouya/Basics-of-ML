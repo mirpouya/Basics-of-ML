{
  "nbformat": 4,
  "nbformat_minor": 0,
  "metadata": {
    "colab": {
      "provenance": [],
      "authorship_tag": "ABX9TyM5iJZgcJSCXiw+rM28pFB4",
      "include_colab_link": true
    },
    "kernelspec": {
      "name": "python3",
      "display_name": "Python 3"
    },
    "language_info": {
      "name": "python"
    }
  },
  "cells": [
    {
      "cell_type": "markdown",
      "metadata": {
        "id": "view-in-github",
        "colab_type": "text"
      },
      "source": [
        "<a href=\"https://colab.research.google.com/github/mirpouya/Basics-of-ML/blob/main/Matplotlib_Intermediate.ipynb\" target=\"_parent\"><img src=\"https://colab.research.google.com/assets/colab-badge.svg\" alt=\"Open In Colab\"/></a>"
      ]
    },
    {
      "cell_type": "code",
      "execution_count": 1,
      "metadata": {
        "id": "okT6Vdka41JU"
      },
      "outputs": [],
      "source": [
        "import matplotlib.pyplot as plt"
      ]
    },
    {
      "cell_type": "code",
      "source": [
        "plt.style.available"
      ],
      "metadata": {
        "colab": {
          "base_uri": "https://localhost:8080/"
        },
        "id": "MAqVetdO5wfu",
        "outputId": "796d6f9a-a08e-4cd8-8b51-0b27a9ca5d59"
      },
      "execution_count": 2,
      "outputs": [
        {
          "output_type": "execute_result",
          "data": {
            "text/plain": [
              "['Solarize_Light2',\n",
              " '_classic_test_patch',\n",
              " '_mpl-gallery',\n",
              " '_mpl-gallery-nogrid',\n",
              " 'bmh',\n",
              " 'classic',\n",
              " 'dark_background',\n",
              " 'fast',\n",
              " 'fivethirtyeight',\n",
              " 'ggplot',\n",
              " 'grayscale',\n",
              " 'seaborn',\n",
              " 'seaborn-bright',\n",
              " 'seaborn-colorblind',\n",
              " 'seaborn-dark',\n",
              " 'seaborn-dark-palette',\n",
              " 'seaborn-darkgrid',\n",
              " 'seaborn-deep',\n",
              " 'seaborn-muted',\n",
              " 'seaborn-notebook',\n",
              " 'seaborn-paper',\n",
              " 'seaborn-pastel',\n",
              " 'seaborn-poster',\n",
              " 'seaborn-talk',\n",
              " 'seaborn-ticks',\n",
              " 'seaborn-white',\n",
              " 'seaborn-whitegrid',\n",
              " 'tableau-colorblind10']"
            ]
          },
          "metadata": {},
          "execution_count": 2
        }
      ]
    },
    {
      "cell_type": "code",
      "source": [
        "plt.style.use(\"classic\")"
      ],
      "metadata": {
        "id": "DSiC1Dmk5zz2"
      },
      "execution_count": 3,
      "outputs": []
    },
    {
      "cell_type": "code",
      "source": [
        "# basic plot\n",
        "\n",
        "fig = plt.figure()\n",
        "ax = plt.axes()"
      ],
      "metadata": {
        "colab": {
          "base_uri": "https://localhost:8080/",
          "height": 440
        },
        "id": "RtL9dFjN54UO",
        "outputId": "3e50b53f-76d2-4ee8-fef1-f217c1af0a7e"
      },
      "execution_count": 5,
      "outputs": [
        {
          "output_type": "display_data",
          "data": {
            "text/plain": [
              "<Figure size 640x480 with 1 Axes>"
            ],
            "image/png": "[encoded data removed]"
          },
          "metadata": {}
        }
      ]
    },
    {
      "cell_type": "code",
      "source": [
        "# basic plot\n",
        "\n",
        "plt.style.use(\"seaborn-darkgrid\")\n",
        "fig = plt.figure()\n",
        "ax = plt.axes()"
      ],
      "metadata": {
        "colab": {
          "base_uri": "https://localhost:8080/",
          "height": 439
        },
        "id": "AEZv-C156IlE",
        "outputId": "0e1fa75a-f7de-497a-c073-bbf0400098bf"
      },
      "execution_count": 9,
      "outputs": [
        {
          "output_type": "display_data",
          "data": {
            "text/plain": [
              "<Figure size 640x480 with 1 Axes>"
            ],
            "image/png": "[encoded data removed]"
          },
          "metadata": {}
        }
      ]
    },
    {
      "cell_type": "code",
      "source": [],
      "metadata": {
        "id": "vGnmismB6iS5"
      },
      "execution_count": null,
      "outputs": []
    }
  ]
}