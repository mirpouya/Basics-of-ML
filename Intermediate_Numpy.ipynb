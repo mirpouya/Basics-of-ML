{
  "nbformat": 4,
  "nbformat_minor": 0,
  "metadata": {
    "colab": {
      "provenance": [],
      "authorship_tag": "ABX9TyNWW1sLoFPHqIL32Aic6qh8",
      "include_colab_link": true
    },
    "kernelspec": {
      "name": "python3",
      "display_name": "Python 3"
    },
    "language_info": {
      "name": "python"
    }
  },
  "cells": [
    {
      "cell_type": "markdown",
      "metadata": {
        "id": "view-in-github",
        "colab_type": "text"
      },
      "source": [
        "<a href=\"https://colab.research.google.com/github/mirpouya/Basics-of-ML/blob/main/Intermediate_Numpy.ipynb\" target=\"_parent\"><img src=\"https://colab.research.google.com/assets/colab-badge.svg\" alt=\"Open In Colab\"/></a>"
      ]
    },
    {
      "cell_type": "code",
      "execution_count": null,
      "metadata": {
        "id": "WRiL4Aqh0BaG"
      },
      "outputs": [],
      "source": [
        "import numpy as np"
      ]
    },
    {
      "cell_type": "code",
      "source": [
        "a = np.arange(10)\n",
        "a"
      ],
      "metadata": {
        "colab": {
          "base_uri": "https://localhost:8080/"
        },
        "id": "RR4HDqlNAoOJ",
        "outputId": "9394628f-ac51-4208-ad14-ced4b9a7fb06"
      },
      "execution_count": null,
      "outputs": [
        {
          "output_type": "execute_result",
          "data": {
            "text/plain": [
              "array([0, 1, 2, 3, 4, 5, 6, 7, 8, 9])"
            ]
          },
          "metadata": {},
          "execution_count": 2
        }
      ]
    },
    {
      "cell_type": "code",
      "source": [
        "b = np.random.randint(0,10, (1,10))\n",
        "b"
      ],
      "metadata": {
        "colab": {
          "base_uri": "https://localhost:8080/"
        },
        "id": "2Er2w7KFAwk7",
        "outputId": "bb286c7d-cf20-4e29-a4ff-3b68492b93ee"
      },
      "execution_count": null,
      "outputs": [
        {
          "output_type": "execute_result",
          "data": {
            "text/plain": [
              "array([[1, 2, 1, 8, 9, 5, 7, 5, 8, 1]])"
            ]
          },
          "metadata": {},
          "execution_count": 3
        }
      ]
    },
    {
      "cell_type": "code",
      "source": [
        "print(\"shape of a is {}\".format(a.shape))\n",
        "print(\"shape of b is {}\".format(b.shape))"
      ],
      "metadata": {
        "colab": {
          "base_uri": "https://localhost:8080/"
        },
        "id": "X7z4QxBvA92v",
        "outputId": "da29ddb6-2a09-4046-d706-bc77c3894b17"
      },
      "execution_count": null,
      "outputs": [
        {
          "output_type": "stream",
          "name": "stdout",
          "text": [
            "shape of a is (10,)\n",
            "shape of b is (1, 10)\n"
          ]
        }
      ]
    },
    {
      "cell_type": "code",
      "source": [
        "# many functions do not accept inputs with (n,) shape\n",
        "# one way to deal with that is np.newaxis\n",
        "\n",
        "c = a[np.newaxis,:]\n",
        "print(\"shape of c is {}\".format(c.shape))\n",
        "c"
      ],
      "metadata": {
        "colab": {
          "base_uri": "https://localhost:8080/"
        },
        "id": "KjtSW_5DBFdG",
        "outputId": "3beb0e90-af3d-4fc1-8358-0289eb3319f3"
      },
      "execution_count": null,
      "outputs": [
        {
          "output_type": "stream",
          "name": "stdout",
          "text": [
            "shape of c is (1, 10)\n"
          ]
        },
        {
          "output_type": "execute_result",
          "data": {
            "text/plain": [
              "array([[0, 1, 2, 3, 4, 5, 6, 7, 8, 9]])"
            ]
          },
          "metadata": {},
          "execution_count": 6
        }
      ]
    },
    {
      "cell_type": "code",
      "source": [
        "# if we want to get (n,) shape back we can:\n",
        "\n",
        "c = np.squeeze(c)\n",
        "print(\"shape of c is {}\".format(c.shape))\n",
        "c"
      ],
      "metadata": {
        "colab": {
          "base_uri": "https://localhost:8080/"
        },
        "id": "j0NXL-VyBpEb",
        "outputId": "c7de1130-149f-4883-89c7-dd5e6188c767"
      },
      "execution_count": null,
      "outputs": [
        {
          "output_type": "stream",
          "name": "stdout",
          "text": [
            "shape of c is (10,)\n"
          ]
        },
        {
          "output_type": "execute_result",
          "data": {
            "text/plain": [
              "array([0, 1, 2, 3, 4, 5, 6, 7, 8, 9])"
            ]
          },
          "metadata": {},
          "execution_count": 7
        }
      ]
    },
    {
      "cell_type": "code",
      "source": [
        "# meaning of dimension in numpy\n",
        "\n",
        "a = np.arange(80).reshape(2,2,5,4)  # this shape has 4 dimensions\n",
        "print(a)\n",
        "print(\"\\n number of dimensions is : {}\".format(a.ndim))"
      ],
      "metadata": {
        "colab": {
          "base_uri": "https://localhost:8080/"
        },
        "id": "Ps2GWov1CJ2u",
        "outputId": "64677510-90fc-4a16-e44e-afa7c5711df5"
      },
      "execution_count": null,
      "outputs": [
        {
          "output_type": "stream",
          "name": "stdout",
          "text": [
            "[[[[ 0  1  2  3]\n",
            "   [ 4  5  6  7]\n",
            "   [ 8  9 10 11]\n",
            "   [12 13 14 15]\n",
            "   [16 17 18 19]]\n",
            "\n",
            "  [[20 21 22 23]\n",
            "   [24 25 26 27]\n",
            "   [28 29 30 31]\n",
            "   [32 33 34 35]\n",
            "   [36 37 38 39]]]\n",
            "\n",
            "\n",
            " [[[40 41 42 43]\n",
            "   [44 45 46 47]\n",
            "   [48 49 50 51]\n",
            "   [52 53 54 55]\n",
            "   [56 57 58 59]]\n",
            "\n",
            "  [[60 61 62 63]\n",
            "   [64 65 66 67]\n",
            "   [68 69 70 71]\n",
            "   [72 73 74 75]\n",
            "   [76 77 78 79]]]]\n",
            "\n",
            " number of dimensions is : 4\n"
          ]
        }
      ]
    },
    {
      "cell_type": "code",
      "source": [
        "a.sum(axis=0)       # adding all the elements of each blocks row-wise\n",
        "                    # reduciton of one dimension     "
      ],
      "metadata": {
        "colab": {
          "base_uri": "https://localhost:8080/"
        },
        "id": "gpZSN3JQD5AZ",
        "outputId": "cdc90641-702f-44da-ee9e-c65fd08e70bd"
      },
      "execution_count": null,
      "outputs": [
        {
          "output_type": "execute_result",
          "data": {
            "text/plain": [
              "array([[[ 40,  42,  44,  46],\n",
              "        [ 48,  50,  52,  54],\n",
              "        [ 56,  58,  60,  62],\n",
              "        [ 64,  66,  68,  70],\n",
              "        [ 72,  74,  76,  78]],\n",
              "\n",
              "       [[ 80,  82,  84,  86],\n",
              "        [ 88,  90,  92,  94],\n",
              "        [ 96,  98, 100, 102],\n",
              "        [104, 106, 108, 110],\n",
              "        [112, 114, 116, 118]]])"
            ]
          },
          "metadata": {},
          "execution_count": 12
        }
      ]
    },
    {
      "cell_type": "code",
      "source": [
        "a.sum(axis=0).shape"
      ],
      "metadata": {
        "colab": {
          "base_uri": "https://localhost:8080/"
        },
        "id": "0536rGnuFh61",
        "outputId": "fb4d39b0-fca1-4f6e-cb97-26441b16c31d"
      },
      "execution_count": null,
      "outputs": [
        {
          "output_type": "execute_result",
          "data": {
            "text/plain": [
              "(2, 5, 4)"
            ]
          },
          "metadata": {},
          "execution_count": 13
        }
      ]
    },
    {
      "cell_type": "code",
      "source": [
        "# numpy is a very fast frameworkd\n",
        "# you should use the functions of numpy for your computations\n",
        "\n",
        "n = 1000000\n",
        "a = np.random.rand(n)\n",
        "b = np.random.rand(n)\n",
        "\n",
        "%timeit a + b\n",
        "%timeit np.add(a,b)"
      ],
      "metadata": {
        "colab": {
          "base_uri": "https://localhost:8080/"
        },
        "id": "MWGrO6NiFwEQ",
        "outputId": "70f3c3f1-09c4-4b53-8dca-98de6dd342e0"
      },
      "execution_count": null,
      "outputs": [
        {
          "output_type": "stream",
          "name": "stdout",
          "text": [
            "1.14 ms ± 27.5 µs per loop (mean ± std. dev. of 7 runs, 1000 loops each)\n",
            "1.13 ms ± 20.7 µs per loop (mean ± std. dev. of 7 runs, 1000 loops each)\n"
          ]
        }
      ]
    },
    {
      "cell_type": "code",
      "source": [],
      "metadata": {
        "id": "0D1UVe2CGU0x"
      },
      "execution_count": null,
      "outputs": []
    }
  ]
}