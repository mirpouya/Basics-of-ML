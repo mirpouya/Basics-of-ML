{
  "nbformat": 4,
  "nbformat_minor": 0,
  "metadata": {
    "colab": {
      "provenance": [],
      "authorship_tag": "ABX9TyMOUjRvUM38xRCLL1OxyIrR",
      "include_colab_link": true
    },
    "kernelspec": {
      "name": "python3",
      "display_name": "Python 3"
    },
    "language_info": {
      "name": "python"
    }
  },
  "cells": [
    {
      "cell_type": "markdown",
      "metadata": {
        "id": "view-in-github",
        "colab_type": "text"
      },
      "source": [
        "<a href=\"https://colab.research.google.com/github/mirpouya/Basics-of-ML/blob/main/Intermediate_Numpy.ipynb\" target=\"_parent\"><img src=\"https://colab.research.google.com/assets/colab-badge.svg\" alt=\"Open In Colab\"/></a>"
      ]
    },
    {
      "cell_type": "code",
      "execution_count": 1,
      "metadata": {
        "id": "WRiL4Aqh0BaG"
      },
      "outputs": [],
      "source": [
        "import numpy as np"
      ]
    },
    {
      "cell_type": "code",
      "source": [
        "a = np.arange(10)\n",
        "a"
      ],
      "metadata": {
        "colab": {
          "base_uri": "https://localhost:8080/"
        },
        "id": "RR4HDqlNAoOJ",
        "outputId": "e0a44835-2765-47c6-b76c-cc481436800c"
      },
      "execution_count": 2,
      "outputs": [
        {
          "output_type": "execute_result",
          "data": {
            "text/plain": [
              "array([0, 1, 2, 3, 4, 5, 6, 7, 8, 9])"
            ]
          },
          "metadata": {},
          "execution_count": 2
        }
      ]
    },
    {
      "cell_type": "code",
      "source": [
        "b = np.random.randint(0,10, (1,10))\n",
        "b"
      ],
      "metadata": {
        "colab": {
          "base_uri": "https://localhost:8080/"
        },
        "id": "2Er2w7KFAwk7",
        "outputId": "6de4b07d-3bb1-46f8-82a3-24a30cce6756"
      },
      "execution_count": 3,
      "outputs": [
        {
          "output_type": "execute_result",
          "data": {
            "text/plain": [
              "array([[1, 3, 4, 3, 8, 0, 1, 0, 7, 5]])"
            ]
          },
          "metadata": {},
          "execution_count": 3
        }
      ]
    },
    {
      "cell_type": "code",
      "source": [
        "print(\"shape of a is {}\".format(a.shape))\n",
        "print(\"shape of b is {}\".format(b.shape))"
      ],
      "metadata": {
        "colab": {
          "base_uri": "https://localhost:8080/"
        },
        "id": "X7z4QxBvA92v",
        "outputId": "e9ac300c-490f-43ef-a082-9825997e127b"
      },
      "execution_count": 4,
      "outputs": [
        {
          "output_type": "stream",
          "name": "stdout",
          "text": [
            "shape of a is (10,)\n",
            "shape of b is (1, 10)\n"
          ]
        }
      ]
    },
    {
      "cell_type": "code",
      "source": [
        "# many functions do not accept inputs with (n,) shape\n",
        "# one way to deal with that is np.newaxis\n",
        "\n",
        "c = a[np.newaxis,:]\n",
        "print(\"shape of c is {}\".format(c.shape))\n",
        "c"
      ],
      "metadata": {
        "colab": {
          "base_uri": "https://localhost:8080/"
        },
        "id": "KjtSW_5DBFdG",
        "outputId": "031e7e79-65a5-4b6b-eec5-27b3571a42b0"
      },
      "execution_count": 5,
      "outputs": [
        {
          "output_type": "stream",
          "name": "stdout",
          "text": [
            "shape of c is (1, 10)\n"
          ]
        },
        {
          "output_type": "execute_result",
          "data": {
            "text/plain": [
              "array([[0, 1, 2, 3, 4, 5, 6, 7, 8, 9]])"
            ]
          },
          "metadata": {},
          "execution_count": 5
        }
      ]
    },
    {
      "cell_type": "code",
      "source": [
        "# if we want to get (n,) shape back we can:\n",
        "\n",
        "c = np.squeeze(c)\n",
        "print(\"shape of c is {}\".format(c.shape))\n",
        "c"
      ],
      "metadata": {
        "colab": {
          "base_uri": "https://localhost:8080/"
        },
        "id": "j0NXL-VyBpEb",
        "outputId": "82cf561d-7758-4cd8-a16b-a89df8504b4a"
      },
      "execution_count": 6,
      "outputs": [
        {
          "output_type": "stream",
          "name": "stdout",
          "text": [
            "shape of c is (10,)\n"
          ]
        },
        {
          "output_type": "execute_result",
          "data": {
            "text/plain": [
              "array([0, 1, 2, 3, 4, 5, 6, 7, 8, 9])"
            ]
          },
          "metadata": {},
          "execution_count": 6
        }
      ]
    },
    {
      "cell_type": "code",
      "source": [
        "# meaning of dimension in numpy\n",
        "\n",
        "a = np.arange(80).reshape(2,2,5,4)  # this shape has 4 dimensions\n",
        "print(a)\n",
        "print(\"\\n number of dimensions is : {}\".format(a.ndim))"
      ],
      "metadata": {
        "colab": {
          "base_uri": "https://localhost:8080/"
        },
        "id": "Ps2GWov1CJ2u",
        "outputId": "100383ee-7910-4be8-cbfb-957a21a48056"
      },
      "execution_count": 7,
      "outputs": [
        {
          "output_type": "stream",
          "name": "stdout",
          "text": [
            "[[[[ 0  1  2  3]\n",
            "   [ 4  5  6  7]\n",
            "   [ 8  9 10 11]\n",
            "   [12 13 14 15]\n",
            "   [16 17 18 19]]\n",
            "\n",
            "  [[20 21 22 23]\n",
            "   [24 25 26 27]\n",
            "   [28 29 30 31]\n",
            "   [32 33 34 35]\n",
            "   [36 37 38 39]]]\n",
            "\n",
            "\n",
            " [[[40 41 42 43]\n",
            "   [44 45 46 47]\n",
            "   [48 49 50 51]\n",
            "   [52 53 54 55]\n",
            "   [56 57 58 59]]\n",
            "\n",
            "  [[60 61 62 63]\n",
            "   [64 65 66 67]\n",
            "   [68 69 70 71]\n",
            "   [72 73 74 75]\n",
            "   [76 77 78 79]]]]\n",
            "\n",
            " number of dimensions is : 4\n"
          ]
        }
      ]
    },
    {
      "cell_type": "code",
      "source": [
        "a.sum(axis=0)       # adding all the elements of each blocks row-wise\n",
        "                    # reduciton of one dimension     "
      ],
      "metadata": {
        "colab": {
          "base_uri": "https://localhost:8080/"
        },
        "id": "gpZSN3JQD5AZ",
        "outputId": "8ffbaa6e-105e-4a92-8890-df0b1878f9ed"
      },
      "execution_count": 8,
      "outputs": [
        {
          "output_type": "execute_result",
          "data": {
            "text/plain": [
              "array([[[ 40,  42,  44,  46],\n",
              "        [ 48,  50,  52,  54],\n",
              "        [ 56,  58,  60,  62],\n",
              "        [ 64,  66,  68,  70],\n",
              "        [ 72,  74,  76,  78]],\n",
              "\n",
              "       [[ 80,  82,  84,  86],\n",
              "        [ 88,  90,  92,  94],\n",
              "        [ 96,  98, 100, 102],\n",
              "        [104, 106, 108, 110],\n",
              "        [112, 114, 116, 118]]])"
            ]
          },
          "metadata": {},
          "execution_count": 8
        }
      ]
    },
    {
      "cell_type": "code",
      "source": [
        "a.sum(axis=0).shape"
      ],
      "metadata": {
        "colab": {
          "base_uri": "https://localhost:8080/"
        },
        "id": "0536rGnuFh61",
        "outputId": "e7b57a08-57b5-4536-ce44-88d48074df98"
      },
      "execution_count": 9,
      "outputs": [
        {
          "output_type": "execute_result",
          "data": {
            "text/plain": [
              "(2, 5, 4)"
            ]
          },
          "metadata": {},
          "execution_count": 9
        }
      ]
    },
    {
      "cell_type": "code",
      "source": [
        "# numpy is a very fast frameworkd\n",
        "# you should use the functions of numpy for your computations\n",
        "\n",
        "n = 1000000\n",
        "a = np.random.rand(n)\n",
        "b = np.random.rand(n)\n",
        "\n",
        "%timeit a + b\n",
        "%timeit np.add(a,b)"
      ],
      "metadata": {
        "colab": {
          "base_uri": "https://localhost:8080/"
        },
        "id": "MWGrO6NiFwEQ",
        "outputId": "7ef6b4dd-7c02-415c-e94a-bec496b1a6b4"
      },
      "execution_count": 10,
      "outputs": [
        {
          "output_type": "stream",
          "name": "stdout",
          "text": [
            "2.66 ms ± 385 µs per loop (mean ± std. dev. of 7 runs, 100 loops each)\n",
            "2.75 ms ± 309 µs per loop (mean ± std. dev. of 7 runs, 100 loops each)\n"
          ]
        }
      ]
    },
    {
      "cell_type": "code",
      "source": [
        "# working with dimensions\n",
        "\n",
        "a = np.random.rand(1000).reshape(5,4,2,5,5)\n",
        "a.shape"
      ],
      "metadata": {
        "id": "0D1UVe2CGU0x",
        "colab": {
          "base_uri": "https://localhost:8080/"
        },
        "outputId": "e936970f-3e16-463d-88c2-f74fff8c146b"
      },
      "execution_count": 11,
      "outputs": [
        {
          "output_type": "execute_result",
          "data": {
            "text/plain": [
              "(5, 4, 2, 5, 5)"
            ]
          },
          "metadata": {},
          "execution_count": 11
        }
      ]
    },
    {
      "cell_type": "code",
      "source": [
        "b = a.sum(axis=3)\n",
        "b.shape"
      ],
      "metadata": {
        "colab": {
          "base_uri": "https://localhost:8080/"
        },
        "id": "CTwpz3-8Sk6f",
        "outputId": "591e1323-8199-495f-945e-b096bb22b3a6"
      },
      "execution_count": 12,
      "outputs": [
        {
          "output_type": "execute_result",
          "data": {
            "text/plain": [
              "(5, 4, 2, 5)"
            ]
          },
          "metadata": {},
          "execution_count": 12
        }
      ]
    },
    {
      "cell_type": "code",
      "source": [
        "a = np.arange(10)\n",
        "b = np.ones(10)\n",
        "\n",
        "print(\"a is : {}\".format(a))\n",
        "print(\"b is : {}\".format(b))"
      ],
      "metadata": {
        "colab": {
          "base_uri": "https://localhost:8080/"
        },
        "id": "c_aNS9zcSozQ",
        "outputId": "7a84d6db-7fa7-4b4c-8497-9407d9196821"
      },
      "execution_count": 21,
      "outputs": [
        {
          "output_type": "stream",
          "name": "stdout",
          "text": [
            "a is : [0 1 2 3 4 5 6 7 8 9]\n",
            "b is : [1. 1. 1. 1. 1. 1. 1. 1. 1. 1.]\n"
          ]
        }
      ]
    },
    {
      "cell_type": "code",
      "source": [
        "np.add(a,b, out=b)"
      ],
      "metadata": {
        "colab": {
          "base_uri": "https://localhost:8080/"
        },
        "id": "PWVVbhk0YWUd",
        "outputId": "8fc137a7-6652-4f0e-9a16-4c1611c22ed9"
      },
      "execution_count": 22,
      "outputs": [
        {
          "output_type": "execute_result",
          "data": {
            "text/plain": [
              "array([ 1.,  2.,  3.,  4.,  5.,  6.,  7.,  8.,  9., 10.])"
            ]
          },
          "metadata": {},
          "execution_count": 22
        }
      ]
    },
    {
      "cell_type": "code",
      "source": [
        "z = np.zeros(20)\n",
        "\n",
        "np.add(a,10, out=z[::2])"
      ],
      "metadata": {
        "colab": {
          "base_uri": "https://localhost:8080/"
        },
        "id": "vInugDkTZJ7v",
        "outputId": "5c466da3-9a46-4a43-c7a4-ec4915c35bd4"
      },
      "execution_count": 26,
      "outputs": [
        {
          "output_type": "execute_result",
          "data": {
            "text/plain": [
              "array([10., 11., 12., 13., 14., 15., 16., 17., 18., 19.])"
            ]
          },
          "metadata": {},
          "execution_count": 26
        }
      ]
    },
    {
      "cell_type": "code",
      "source": [
        "z"
      ],
      "metadata": {
        "colab": {
          "base_uri": "https://localhost:8080/"
        },
        "id": "Yf77_0UZaAWR",
        "outputId": "cd51319b-ffc9-4481-8520-7674e3a9154d"
      },
      "execution_count": 27,
      "outputs": [
        {
          "output_type": "execute_result",
          "data": {
            "text/plain": [
              "array([10.,  0., 11.,  0., 12.,  0., 13.,  0., 14.,  0., 15.,  0., 16.,\n",
              "        0., 17.,  0., 18.,  0., 19.,  0.])"
            ]
          },
          "metadata": {},
          "execution_count": 27
        }
      ]
    },
    {
      "cell_type": "code",
      "source": [
        "# same operation, different method\n",
        "# [::2] it means every other elements\n",
        "\n",
        "z[::2] = a+50\n",
        "z"
      ],
      "metadata": {
        "colab": {
          "base_uri": "https://localhost:8080/"
        },
        "id": "MQzuMrNIaPZc",
        "outputId": "796941e0-ea5c-42d4-ba6f-b9a836b91560"
      },
      "execution_count": 29,
      "outputs": [
        {
          "output_type": "execute_result",
          "data": {
            "text/plain": [
              "array([50.,  0., 51.,  0., 52.,  0., 53.,  0., 54.,  0., 55.,  0., 56.,\n",
              "        0., 57.,  0., 58.,  0., 59.,  0.])"
            ]
          },
          "metadata": {},
          "execution_count": 29
        }
      ]
    },
    {
      "cell_type": "markdown",
      "source": [
        "<h2> Working with Image </h2>"
      ],
      "metadata": {
        "id": "9ExlrccZ0ykk"
      }
    },
    {
      "cell_type": "code",
      "source": [
        "import matplotlib.pyplot as plt"
      ],
      "metadata": {
        "id": "yG-pnNpK01pr"
      },
      "execution_count": 30,
      "outputs": []
    },
    {
      "cell_type": "code",
      "source": [
        "im = plt.imread(\"/content/cat_image.jpg\")"
      ],
      "metadata": {
        "id": "XITZivhK05TU"
      },
      "execution_count": 31,
      "outputs": []
    },
    {
      "cell_type": "code",
      "source": [
        "type(im)"
      ],
      "metadata": {
        "id": "aMk1OA4E1CzH",
        "outputId": "6b36717a-f5fd-4a15-b817-8126f4aaae99",
        "colab": {
          "base_uri": "https://localhost:8080/"
        }
      },
      "execution_count": 32,
      "outputs": [
        {
          "output_type": "execute_result",
          "data": {
            "text/plain": [
              "numpy.ndarray"
            ]
          },
          "metadata": {},
          "execution_count": 32
        }
      ]
    },
    {
      "cell_type": "code",
      "source": [
        "# image is an numpy array of numbers"
      ],
      "metadata": {
        "id": "N5ES2wbQ1ELB"
      },
      "execution_count": 33,
      "outputs": []
    },
    {
      "cell_type": "code",
      "source": [
        "im"
      ],
      "metadata": {
        "id": "WR-QsDlM1JgP",
        "outputId": "a8b8d06c-dfb8-4018-bde2-983298ae43f9",
        "colab": {
          "base_uri": "https://localhost:8080/"
        }
      },
      "execution_count": 34,
      "outputs": [
        {
          "output_type": "execute_result",
          "data": {
            "text/plain": [
              "array([[[25, 19, 19],\n",
              "        [25, 19, 19],\n",
              "        [25, 19, 19],\n",
              "        ...,\n",
              "        [71, 58, 41],\n",
              "        [72, 59, 42],\n",
              "        [72, 59, 42]],\n",
              "\n",
              "       [[24, 18, 18],\n",
              "        [25, 19, 19],\n",
              "        [25, 19, 19],\n",
              "        ...,\n",
              "        [68, 55, 38],\n",
              "        [69, 56, 39],\n",
              "        [69, 56, 39]],\n",
              "\n",
              "       [[24, 18, 18],\n",
              "        [24, 18, 18],\n",
              "        [25, 19, 19],\n",
              "        ...,\n",
              "        [64, 51, 34],\n",
              "        [64, 51, 34],\n",
              "        [65, 52, 35]],\n",
              "\n",
              "       ...,\n",
              "\n",
              "       [[14, 14, 14],\n",
              "        [14, 14, 14],\n",
              "        [14, 14, 14],\n",
              "        ...,\n",
              "        [30, 25, 19],\n",
              "        [29, 24, 18],\n",
              "        [29, 24, 18]],\n",
              "\n",
              "       [[14, 14, 14],\n",
              "        [14, 14, 14],\n",
              "        [14, 14, 14],\n",
              "        ...,\n",
              "        [30, 25, 19],\n",
              "        [29, 24, 18],\n",
              "        [29, 24, 18]],\n",
              "\n",
              "       [[14, 14, 14],\n",
              "        [14, 14, 14],\n",
              "        [14, 14, 14],\n",
              "        ...,\n",
              "        [30, 25, 19],\n",
              "        [29, 24, 18],\n",
              "        [29, 24, 18]]], dtype=uint8)"
            ]
          },
          "metadata": {},
          "execution_count": 34
        }
      ]
    },
    {
      "cell_type": "code",
      "source": [
        "# shape of image\n",
        "\n",
        "im.shape"
      ],
      "metadata": {
        "id": "1APKPtmE1KlT",
        "outputId": "b1497d8d-0642-45fa-e771-c687a4fac7f7",
        "colab": {
          "base_uri": "https://localhost:8080/"
        }
      },
      "execution_count": 35,
      "outputs": [
        {
          "output_type": "execute_result",
          "data": {
            "text/plain": [
              "(275, 183, 3)"
            ]
          },
          "metadata": {},
          "execution_count": 35
        }
      ]
    },
    {
      "cell_type": "code",
      "source": [
        "# dimensions of image\n",
        "\n",
        "im.ndim"
      ],
      "metadata": {
        "id": "5cfS1bjc1VCj",
        "outputId": "242e98bf-df26-4cf0-a40a-f5ec187f96f0",
        "colab": {
          "base_uri": "https://localhost:8080/"
        }
      },
      "execution_count": 36,
      "outputs": [
        {
          "output_type": "execute_result",
          "data": {
            "text/plain": [
              "3"
            ]
          },
          "metadata": {},
          "execution_count": 36
        }
      ]
    },
    {
      "cell_type": "code",
      "source": [
        "# visualizing image\n",
        "\n",
        "plt.imshow(im)"
      ],
      "metadata": {
        "id": "Zv7IJS5v1Y86",
        "outputId": "9fe6deb0-9563-4183-9931-baa9f885f60b",
        "colab": {
          "base_uri": "https://localhost:8080/",
          "height": 286
        }
      },
      "execution_count": 38,
      "outputs": [
        {
          "output_type": "execute_result",
          "data": {
            "text/plain": [
              "<matplotlib.image.AxesImage at 0x7f3d7f9d7a60>"
            ]
          },
          "metadata": {},
          "execution_count": 38
        },
        {
          "output_type": "display_data",
          "data": {
            "text/plain": [
              "<Figure size 432x288 with 1 Axes>"
            ],
            "image/png": "[encoded data removed]"
          },
          "metadata": {
            "needs_background": "light"
          }
        }
      ]
    },
    {
      "cell_type": "code",
      "source": [],
      "metadata": {
        "id": "VtlQc9ZW1dk-"
      },
      "execution_count": null,
      "outputs": []
    }
  ]
}