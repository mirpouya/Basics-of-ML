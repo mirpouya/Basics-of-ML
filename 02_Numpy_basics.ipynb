{
  "nbformat": 4,
  "nbformat_minor": 0,
  "metadata": {
    "colab": {
      "provenance": [],
      "authorship_tag": "ABX9TyP6Jqy6hKk2sZA3197mZ386",
      "include_colab_link": true
    },
    "kernelspec": {
      "name": "python3",
      "display_name": "Python 3"
    },
    "language_info": {
      "name": "python"
    }
  },
  "cells": [
    {
      "cell_type": "markdown",
      "metadata": {
        "id": "view-in-github",
        "colab_type": "text"
      },
      "source": [
        "<a href=\"https://colab.research.google.com/github/mirpouya/Basics-of-ML/blob/main/02_Numpy_basics.ipynb\" target=\"_parent\"><img src=\"https://colab.research.google.com/assets/colab-badge.svg\" alt=\"Open In Colab\"/></a>"
      ]
    },
    {
      "cell_type": "code",
      "execution_count": 1,
      "metadata": {
        "id": "rT_yQrXS353z"
      },
      "outputs": [],
      "source": [
        "import numpy as np"
      ]
    },
    {
      "cell_type": "code",
      "source": [
        "a = np.array([1,2,3,4])\n",
        "a"
      ],
      "metadata": {
        "colab": {
          "base_uri": "https://localhost:8080/"
        },
        "id": "T_TABO7A_sYk",
        "outputId": "fb16dc96-3f46-4c90-d5df-7126db804589"
      },
      "execution_count": 2,
      "outputs": [
        {
          "output_type": "execute_result",
          "data": {
            "text/plain": [
              "array([1, 2, 3, 4])"
            ]
          },
          "metadata": {},
          "execution_count": 2
        }
      ]
    },
    {
      "cell_type": "code",
      "source": [
        "type(a)"
      ],
      "metadata": {
        "colab": {
          "base_uri": "https://localhost:8080/"
        },
        "id": "05d_mRleAdL8",
        "outputId": "1f541854-8444-48bc-ddba-70c1ada392f8"
      },
      "execution_count": 3,
      "outputs": [
        {
          "output_type": "execute_result",
          "data": {
            "text/plain": [
              "numpy.ndarray"
            ]
          },
          "metadata": {},
          "execution_count": 3
        }
      ]
    },
    {
      "cell_type": "code",
      "source": [
        "b = np.array((1,2,3,4))\n",
        "b"
      ],
      "metadata": {
        "colab": {
          "base_uri": "https://localhost:8080/"
        },
        "id": "P-3kyKMSAeZ-",
        "outputId": "b5a1c30e-e4b9-45d9-94e9-6b2b63555910"
      },
      "execution_count": 4,
      "outputs": [
        {
          "output_type": "execute_result",
          "data": {
            "text/plain": [
              "array([1, 2, 3, 4])"
            ]
          },
          "metadata": {},
          "execution_count": 4
        }
      ]
    },
    {
      "cell_type": "code",
      "source": [
        "type(b)"
      ],
      "metadata": {
        "colab": {
          "base_uri": "https://localhost:8080/"
        },
        "id": "N40zjcluAhtl",
        "outputId": "d82e6633-8b72-4af0-8f58-64cd49306353"
      },
      "execution_count": 5,
      "outputs": [
        {
          "output_type": "execute_result",
          "data": {
            "text/plain": [
              "numpy.ndarray"
            ]
          },
          "metadata": {},
          "execution_count": 5
        }
      ]
    },
    {
      "cell_type": "code",
      "source": [
        "# data types in a \n",
        "a.dtype"
      ],
      "metadata": {
        "colab": {
          "base_uri": "https://localhost:8080/"
        },
        "id": "RkQ-hhi5AjDq",
        "outputId": "f404cd3a-0309-4451-a23c-13a9ee3cb640"
      },
      "execution_count": 6,
      "outputs": [
        {
          "output_type": "execute_result",
          "data": {
            "text/plain": [
              "dtype('int64')"
            ]
          },
          "metadata": {},
          "execution_count": 6
        }
      ]
    },
    {
      "cell_type": "code",
      "source": [
        "c = np.array([1,2,\"ame\", 3.14])\n",
        "c"
      ],
      "metadata": {
        "colab": {
          "base_uri": "https://localhost:8080/"
        },
        "id": "KqR5d3v8Axzb",
        "outputId": "daff419d-2630-455b-a68d-e284f07f2e10"
      },
      "execution_count": 7,
      "outputs": [
        {
          "output_type": "execute_result",
          "data": {
            "text/plain": [
              "array(['1', '2', 'ame', '3.14'], dtype='<U32')"
            ]
          },
          "metadata": {},
          "execution_count": 7
        }
      ]
    },
    {
      "cell_type": "code",
      "source": [
        "c.dtype"
      ],
      "metadata": {
        "colab": {
          "base_uri": "https://localhost:8080/"
        },
        "id": "_IsCnnF1A3pX",
        "outputId": "62f479f9-c8d2-46ac-a2bd-24146fff5aa2"
      },
      "execution_count": 8,
      "outputs": [
        {
          "output_type": "execute_result",
          "data": {
            "text/plain": [
              "dtype('<U32')"
            ]
          },
          "metadata": {},
          "execution_count": 8
        }
      ]
    },
    {
      "cell_type": "code",
      "source": [
        "arr1 = np.array([[1,2,3,1], [4,5,6,0]])\n",
        "arr1"
      ],
      "metadata": {
        "colab": {
          "base_uri": "https://localhost:8080/"
        },
        "id": "l7TuIzWuA5Wg",
        "outputId": "acbfd952-2a8a-4c0c-b618-05440b7ada2f"
      },
      "execution_count": 9,
      "outputs": [
        {
          "output_type": "execute_result",
          "data": {
            "text/plain": [
              "array([[1, 2, 3, 1],\n",
              "       [4, 5, 6, 0]])"
            ]
          },
          "metadata": {},
          "execution_count": 9
        }
      ]
    },
    {
      "cell_type": "code",
      "source": [
        "arr1.ndim"
      ],
      "metadata": {
        "colab": {
          "base_uri": "https://localhost:8080/"
        },
        "id": "tr81STikGb_V",
        "outputId": "bdb33c74-883e-4fe5-c647-b389f2a97903"
      },
      "execution_count": 10,
      "outputs": [
        {
          "output_type": "execute_result",
          "data": {
            "text/plain": [
              "2"
            ]
          },
          "metadata": {},
          "execution_count": 10
        }
      ]
    },
    {
      "cell_type": "code",
      "source": [
        "# accessing elements in the array\n",
        "arr1[0,1]"
      ],
      "metadata": {
        "colab": {
          "base_uri": "https://localhost:8080/"
        },
        "id": "J68xR8KEGeVK",
        "outputId": "f0a99a00-33bb-402c-c0ee-e2380e2412d4"
      },
      "execution_count": 11,
      "outputs": [
        {
          "output_type": "execute_result",
          "data": {
            "text/plain": [
              "2"
            ]
          },
          "metadata": {},
          "execution_count": 11
        }
      ]
    },
    {
      "cell_type": "code",
      "source": [
        "# different dimentsions\n",
        "arr2 = np.array([[1,2,3], [4,5,6,7]])\n",
        "arr2"
      ],
      "metadata": {
        "colab": {
          "base_uri": "https://localhost:8080/"
        },
        "id": "FqGsC_f3GlBO",
        "outputId": "e26e0b28-7954-4542-9088-493b4698a904"
      },
      "execution_count": 12,
      "outputs": [
        {
          "output_type": "stream",
          "name": "stderr",
          "text": [
            "<ipython-input-12-a348b0e4c27a>:2: VisibleDeprecationWarning: Creating an ndarray from ragged nested sequences (which is a list-or-tuple of lists-or-tuples-or ndarrays with different lengths or shapes) is deprecated. If you meant to do this, you must specify 'dtype=object' when creating the ndarray.\n",
            "  arr2 = np.array([[1,2,3], [4,5,6,7]])\n"
          ]
        },
        {
          "output_type": "execute_result",
          "data": {
            "text/plain": [
              "array([list([1, 2, 3]), list([4, 5, 6, 7])], dtype=object)"
            ]
          },
          "metadata": {},
          "execution_count": 12
        }
      ]
    },
    {
      "cell_type": "code",
      "source": [
        "print(arr2)"
      ],
      "metadata": {
        "colab": {
          "base_uri": "https://localhost:8080/"
        },
        "id": "6Yag1dbbGsCb",
        "outputId": "25693112-235b-4ffb-f18f-a1cfef694bc0"
      },
      "execution_count": 13,
      "outputs": [
        {
          "output_type": "stream",
          "name": "stdout",
          "text": [
            "[list([1, 2, 3]) list([4, 5, 6, 7])]\n"
          ]
        }
      ]
    },
    {
      "cell_type": "code",
      "source": [
        "arr2[0][2]\n",
        "\n",
        "\"\"\" now we can't access the item using arr2[1,2]\"\"\""
      ],
      "metadata": {
        "colab": {
          "base_uri": "https://localhost:8080/"
        },
        "id": "CaObyTlDGxLU",
        "outputId": "bc843060-a572-44d8-93d1-6f03611d9682"
      },
      "execution_count": 15,
      "outputs": [
        {
          "output_type": "execute_result",
          "data": {
            "text/plain": [
              "3"
            ]
          },
          "metadata": {},
          "execution_count": 15
        }
      ]
    },
    {
      "cell_type": "code",
      "source": [
        "# three dimensional array\n",
        "\n",
        "arr3 = np.array([[[1,2,3], [3,3,3], [0,10,20]], [[1,2,3], [3,3,3], [0,10,20]]])\n",
        "arr3"
      ],
      "metadata": {
        "colab": {
          "base_uri": "https://localhost:8080/"
        },
        "id": "RhXy4qt-G0l9",
        "outputId": "e93c539e-bb0e-4a4b-bcf8-4dca4517cef8"
      },
      "execution_count": 16,
      "outputs": [
        {
          "output_type": "execute_result",
          "data": {
            "text/plain": [
              "array([[[ 1,  2,  3],\n",
              "        [ 3,  3,  3],\n",
              "        [ 0, 10, 20]],\n",
              "\n",
              "       [[ 1,  2,  3],\n",
              "        [ 3,  3,  3],\n",
              "        [ 0, 10, 20]]])"
            ]
          },
          "metadata": {},
          "execution_count": 16
        }
      ]
    },
    {
      "cell_type": "code",
      "source": [
        "arr3.ndim"
      ],
      "metadata": {
        "colab": {
          "base_uri": "https://localhost:8080/"
        },
        "id": "4f_ZInMxMdzM",
        "outputId": "a38231c9-7669-48da-e823-89eb1e5d34df"
      },
      "execution_count": 17,
      "outputs": [
        {
          "output_type": "execute_result",
          "data": {
            "text/plain": [
              "3"
            ]
          },
          "metadata": {},
          "execution_count": 17
        }
      ]
    },
    {
      "cell_type": "code",
      "source": [
        "arr3[1,2,1]"
      ],
      "metadata": {
        "colab": {
          "base_uri": "https://localhost:8080/"
        },
        "id": "2okEVOD-Mf2a",
        "outputId": "3b65232d-2f42-43e6-ff8a-8344caa8ff3c"
      },
      "execution_count": 18,
      "outputs": [
        {
          "output_type": "execute_result",
          "data": {
            "text/plain": [
              "10"
            ]
          },
          "metadata": {},
          "execution_count": 18
        }
      ]
    },
    {
      "cell_type": "code",
      "source": [
        "arr3.shape"
      ],
      "metadata": {
        "colab": {
          "base_uri": "https://localhost:8080/"
        },
        "id": "6PMW6LZyMm_l",
        "outputId": "53aebe3d-8455-4546-e204-0da891de96b6"
      },
      "execution_count": 19,
      "outputs": [
        {
          "output_type": "execute_result",
          "data": {
            "text/plain": [
              "(2, 3, 3)"
            ]
          },
          "metadata": {},
          "execution_count": 19
        }
      ]
    },
    {
      "cell_type": "code",
      "source": [
        "# total number of elemnts\n",
        "\n",
        "arr3.size"
      ],
      "metadata": {
        "colab": {
          "base_uri": "https://localhost:8080/"
        },
        "id": "M73sJcbPcQzb",
        "outputId": "aa56396a-9513-4404-e613-2ef483ddb235"
      },
      "execution_count": 20,
      "outputs": [
        {
          "output_type": "execute_result",
          "data": {
            "text/plain": [
              "18"
            ]
          },
          "metadata": {},
          "execution_count": 20
        }
      ]
    },
    {
      "cell_type": "code",
      "source": [
        "# arrange method\n",
        "\n",
        "arr = np.arange(100)\n",
        "arr"
      ],
      "metadata": {
        "colab": {
          "base_uri": "https://localhost:8080/"
        },
        "id": "jWTbOMR0c48z",
        "outputId": "281202f3-6c56-4a62-86f0-a6a2cec58799"
      },
      "execution_count": 21,
      "outputs": [
        {
          "output_type": "execute_result",
          "data": {
            "text/plain": [
              "array([ 0,  1,  2,  3,  4,  5,  6,  7,  8,  9, 10, 11, 12, 13, 14, 15, 16,\n",
              "       17, 18, 19, 20, 21, 22, 23, 24, 25, 26, 27, 28, 29, 30, 31, 32, 33,\n",
              "       34, 35, 36, 37, 38, 39, 40, 41, 42, 43, 44, 45, 46, 47, 48, 49, 50,\n",
              "       51, 52, 53, 54, 55, 56, 57, 58, 59, 60, 61, 62, 63, 64, 65, 66, 67,\n",
              "       68, 69, 70, 71, 72, 73, 74, 75, 76, 77, 78, 79, 80, 81, 82, 83, 84,\n",
              "       85, 86, 87, 88, 89, 90, 91, 92, 93, 94, 95, 96, 97, 98, 99])"
            ]
          },
          "metadata": {},
          "execution_count": 21
        }
      ]
    },
    {
      "cell_type": "code",
      "source": [
        "arr = np.arange(20,100,2)\n",
        "arr"
      ],
      "metadata": {
        "colab": {
          "base_uri": "https://localhost:8080/"
        },
        "id": "ni3wspA8hO-I",
        "outputId": "bff4966b-ed18-4fe6-c42c-388ce3318013"
      },
      "execution_count": 23,
      "outputs": [
        {
          "output_type": "execute_result",
          "data": {
            "text/plain": [
              "array([20, 22, 24, 26, 28, 30, 32, 34, 36, 38, 40, 42, 44, 46, 48, 50, 52,\n",
              "       54, 56, 58, 60, 62, 64, 66, 68, 70, 72, 74, 76, 78, 80, 82, 84, 86,\n",
              "       88, 90, 92, 94, 96, 98])"
            ]
          },
          "metadata": {},
          "execution_count": 23
        }
      ]
    },
    {
      "cell_type": "markdown",
      "source": [
        "np.random.permutation"
      ],
      "metadata": {
        "id": "JD_UzHUHid-7"
      }
    },
    {
      "cell_type": "code",
      "source": [
        "arr = np.random.permutation(np.arange(12))\n",
        "arr"
      ],
      "metadata": {
        "colab": {
          "base_uri": "https://localhost:8080/"
        },
        "id": "X5WOYiarhS8X",
        "outputId": "5d543d30-8fed-4eb9-92c5-1a88943d3fae"
      },
      "execution_count": 31,
      "outputs": [
        {
          "output_type": "execute_result",
          "data": {
            "text/plain": [
              "array([ 5,  8,  2,  6, 11,  9,  0,  7,  3,  1, 10,  4])"
            ]
          },
          "metadata": {},
          "execution_count": 31
        }
      ]
    },
    {
      "cell_type": "code",
      "source": [
        "arr1 = np.random.randint(low=1, high=9, size=(3, 5))\n",
        "arr1"
      ],
      "metadata": {
        "colab": {
          "base_uri": "https://localhost:8080/"
        },
        "id": "tGWpLVOMmDW_",
        "outputId": "f6ac0369-06b2-4e20-aea0-703de55b2cb0"
      },
      "execution_count": 33,
      "outputs": [
        {
          "output_type": "execute_result",
          "data": {
            "text/plain": [
              "array([[2, 2, 5, 7, 8],\n",
              "       [6, 2, 2, 7, 7],\n",
              "       [5, 3, 6, 2, 3]])"
            ]
          },
          "metadata": {},
          "execution_count": 33
        }
      ]
    },
    {
      "cell_type": "markdown",
      "source": [
        "generate random integers"
      ],
      "metadata": {
        "id": "YSkk9HT_kENb"
      }
    },
    {
      "cell_type": "code",
      "source": [
        "# randint\n",
        "\n",
        "arr = np.random.randint(15)\n",
        "arr"
      ],
      "metadata": {
        "colab": {
          "base_uri": "https://localhost:8080/"
        },
        "id": "RMjhX0oci753",
        "outputId": "be6a9203-debd-4efc-8680-3be6536da830"
      },
      "execution_count": 30,
      "outputs": [
        {
          "output_type": "execute_result",
          "data": {
            "text/plain": [
              "6"
            ]
          },
          "metadata": {},
          "execution_count": 30
        }
      ]
    },
    {
      "cell_type": "markdown",
      "source": [
        "random number between 0 and 1"
      ],
      "metadata": {
        "id": "8FpCDN0UlWZT"
      }
    },
    {
      "cell_type": "code",
      "source": [
        "arr = np.random.rand(200)\n",
        "arr"
      ],
      "metadata": {
        "colab": {
          "base_uri": "https://localhost:8080/"
        },
        "id": "c2zr6PABkKok",
        "outputId": "400555ed-498b-4625-a086-26fa21b6f599"
      },
      "execution_count": 36,
      "outputs": [
        {
          "output_type": "execute_result",
          "data": {
            "text/plain": [
              "array([0.68448578, 0.11741272, 0.95720432, 0.39048812, 0.68418769,\n",
              "       0.6925874 , 0.18336745, 0.24667881, 0.99303978, 0.83470276,\n",
              "       0.87860808, 0.66503693, 0.80506737, 0.86780122, 0.71242333,\n",
              "       0.38887773, 0.24763678, 0.26056464, 0.86300272, 0.27905287,\n",
              "       0.29020498, 0.3312892 , 0.69621299, 0.89938144, 0.53628732,\n",
              "       0.84573618, 0.95788671, 0.93028309, 0.97071241, 0.5786422 ,\n",
              "       0.26741982, 0.84121894, 0.49568185, 0.45212503, 0.05608114,\n",
              "       0.71931374, 0.15205574, 0.29704637, 0.75531897, 0.39106461,\n",
              "       0.07169942, 0.22432852, 0.33024765, 0.55091804, 0.62323588,\n",
              "       0.15410398, 0.35745597, 0.39843856, 0.02213091, 0.18503299,\n",
              "       0.83493647, 0.42750857, 0.68118044, 0.21974231, 0.33696921,\n",
              "       0.37332822, 0.1681168 , 0.77869809, 0.59599696, 0.68454566,\n",
              "       0.23177577, 0.68015789, 0.41631137, 0.05819048, 0.05787747,\n",
              "       0.03986122, 0.85634202, 0.12763666, 0.98310873, 0.70381519,\n",
              "       0.3314003 , 0.81067933, 0.62207277, 0.7228064 , 0.06125332,\n",
              "       0.18763885, 0.63225913, 0.56186565, 0.24418839, 0.3026007 ,\n",
              "       0.04047086, 0.98071674, 0.89378811, 0.93894672, 0.35276464,\n",
              "       0.15944952, 0.97474595, 0.03313961, 0.57204268, 0.68046592,\n",
              "       0.0824774 , 0.62347909, 0.58123275, 0.49336528, 0.19609267,\n",
              "       0.08883539, 0.90507344, 0.2767994 , 0.15863335, 0.32472857,\n",
              "       0.67751466, 0.07339708, 0.66989561, 0.65084153, 0.95027473,\n",
              "       0.85777334, 0.82160852, 0.03445169, 0.87609254, 0.36792827,\n",
              "       0.79823309, 0.87866025, 0.3006345 , 0.02297364, 0.1544194 ,\n",
              "       0.28134105, 0.65906359, 0.59434725, 0.33726723, 0.94134246,\n",
              "       0.68841915, 0.36540046, 0.41960253, 0.95468819, 0.25744545,\n",
              "       0.21266344, 0.34559328, 0.46662063, 0.3619914 , 0.7402979 ,\n",
              "       0.27586683, 0.45768999, 0.65685643, 0.45642934, 0.57563361,\n",
              "       0.39906064, 0.67946447, 0.67861984, 0.51611216, 0.20527648,\n",
              "       0.36158832, 0.81100808, 0.67754441, 0.75783925, 0.66213711,\n",
              "       0.34778915, 0.39485891, 0.01409395, 0.51170114, 0.23188883,\n",
              "       0.59396463, 0.442932  , 0.32897398, 0.8592321 , 0.25901284,\n",
              "       0.83287296, 0.88968794, 0.27292155, 0.61349627, 0.43472444,\n",
              "       0.86248454, 0.78761212, 0.73412057, 0.39594443, 0.98634397,\n",
              "       0.43473606, 0.12811046, 0.31033445, 0.95657476, 0.10724872,\n",
              "       0.0477112 , 0.37252912, 0.5427613 , 0.8479033 , 0.85334097,\n",
              "       0.19664409, 0.79329294, 0.36902128, 0.99803668, 0.21237087,\n",
              "       0.56309172, 0.91731075, 0.21380474, 0.46921874, 0.791536  ,\n",
              "       0.00583237, 0.86710622, 0.15179137, 0.14296386, 0.15830325,\n",
              "       0.64330065, 0.08838395, 0.51968998, 0.30185677, 0.26833756,\n",
              "       0.70464713, 0.51087412, 0.03094732, 0.20839612, 0.48741866])"
            ]
          },
          "metadata": {},
          "execution_count": 36
        }
      ]
    },
    {
      "cell_type": "code",
      "source": [
        "# .rand produces random numbers from a uniform distribution\n",
        "\n",
        "import matplotlib.pyplot as plt\n",
        "\n",
        "plt.hist(arr)"
      ],
      "metadata": {
        "colab": {
          "base_uri": "https://localhost:8080/",
          "height": 352
        },
        "id": "kXCttIOOl24r",
        "outputId": "19965c4f-053f-47c5-a18e-85f2adef28ce"
      },
      "execution_count": 40,
      "outputs": [
        {
          "output_type": "execute_result",
          "data": {
            "text/plain": [
              "(array([19., 18., 27., 26., 14., 16., 25., 14., 23., 18.]),\n",
              " array([0.00583237, 0.1050528 , 0.20427323, 0.30349367, 0.4027141 ,\n",
              "        0.50193453, 0.60115496, 0.70037539, 0.79959582, 0.89881625,\n",
              "        0.99803668]),\n",
              " <a list of 10 Patch objects>)"
            ]
          },
          "metadata": {},
          "execution_count": 40
        },
        {
          "output_type": "display_data",
          "data": {
            "text/plain": [
              "<Figure size 432x288 with 1 Axes>"
            ],
            "image/png": "[encoded data removed]"
          },
          "metadata": {
            "needs_background": "light"
          }
        }
      ]
    },
    {
      "cell_type": "code",
      "source": [
        "# random data from normal distribution -> .randn\n",
        "\n",
        "arr = np.random.randn(200)\n",
        "plt.hist(arr)"
      ],
      "metadata": {
        "colab": {
          "base_uri": "https://localhost:8080/",
          "height": 352
        },
        "id": "sIOJliyfop94",
        "outputId": "6203fea5-e116-47e8-d376-76e6c6793f18"
      },
      "execution_count": 41,
      "outputs": [
        {
          "output_type": "execute_result",
          "data": {
            "text/plain": [
              "(array([ 7.,  9., 33., 28., 39., 33., 35.,  7.,  6.,  3.]),\n",
              " array([-2.14268655, -1.66083689, -1.17898723, -0.69713757, -0.21528791,\n",
              "         0.26656175,  0.74841142,  1.23026108,  1.71211074,  2.1939604 ,\n",
              "         2.67581006]),\n",
              " <a list of 10 Patch objects>)"
            ]
          },
          "metadata": {},
          "execution_count": 41
        },
        {
          "output_type": "display_data",
          "data": {
            "text/plain": [
              "<Figure size 432x288 with 1 Axes>"
            ],
            "image/png": "[encoded data removed]"
          },
          "metadata": {
            "needs_background": "light"
          }
        }
      ]
    },
    {
      "cell_type": "code",
      "source": [],
      "metadata": {
        "id": "DC016VR6pcNn"
      },
      "execution_count": null,
      "outputs": []
    }
  ]
}