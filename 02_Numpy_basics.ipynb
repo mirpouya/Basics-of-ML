{
  "nbformat": 4,
  "nbformat_minor": 0,
  "metadata": {
    "colab": {
      "provenance": [],
      "authorship_tag": "ABX9TyNJ3RY2eQfZ3LC+secg5GwG",
      "include_colab_link": true
    },
    "kernelspec": {
      "name": "python3",
      "display_name": "Python 3"
    },
    "language_info": {
      "name": "python"
    }
  },
  "cells": [
    {
      "cell_type": "markdown",
      "metadata": {
        "id": "view-in-github",
        "colab_type": "text"
      },
      "source": [
        "<a href=\"https://colab.research.google.com/github/mirpouya/Basics-of-ML/blob/main/02_Numpy_basics.ipynb\" target=\"_parent\"><img src=\"https://colab.research.google.com/assets/colab-badge.svg\" alt=\"Open In Colab\"/></a>"
      ]
    },
    {
      "cell_type": "code",
      "execution_count": 51,
      "metadata": {
        "id": "rT_yQrXS353z"
      },
      "outputs": [],
      "source": [
        "import numpy as np"
      ]
    },
    {
      "cell_type": "code",
      "source": [
        "a = np.array([1,2,3,4])\n",
        "a"
      ],
      "metadata": {
        "colab": {
          "base_uri": "https://localhost:8080/"
        },
        "id": "T_TABO7A_sYk",
        "outputId": "1a952518-c25a-40fe-f6a6-af4d49d39df5"
      },
      "execution_count": 52,
      "outputs": [
        {
          "output_type": "execute_result",
          "data": {
            "text/plain": [
              "array([1, 2, 3, 4])"
            ]
          },
          "metadata": {},
          "execution_count": 52
        }
      ]
    },
    {
      "cell_type": "code",
      "source": [
        "type(a)"
      ],
      "metadata": {
        "colab": {
          "base_uri": "https://localhost:8080/"
        },
        "id": "05d_mRleAdL8",
        "outputId": "08d36a00-ab2a-4c38-a985-cf76d7ce3312"
      },
      "execution_count": 53,
      "outputs": [
        {
          "output_type": "execute_result",
          "data": {
            "text/plain": [
              "numpy.ndarray"
            ]
          },
          "metadata": {},
          "execution_count": 53
        }
      ]
    },
    {
      "cell_type": "code",
      "source": [
        "b = np.array((1,2,3,4))\n",
        "b"
      ],
      "metadata": {
        "colab": {
          "base_uri": "https://localhost:8080/"
        },
        "id": "P-3kyKMSAeZ-",
        "outputId": "71fdbeec-f691-47e1-b36e-872839465194"
      },
      "execution_count": 54,
      "outputs": [
        {
          "output_type": "execute_result",
          "data": {
            "text/plain": [
              "array([1, 2, 3, 4])"
            ]
          },
          "metadata": {},
          "execution_count": 54
        }
      ]
    },
    {
      "cell_type": "code",
      "source": [
        "type(b)"
      ],
      "metadata": {
        "colab": {
          "base_uri": "https://localhost:8080/"
        },
        "id": "N40zjcluAhtl",
        "outputId": "ac75520f-7927-494f-d18d-67a23f85d64e"
      },
      "execution_count": 55,
      "outputs": [
        {
          "output_type": "execute_result",
          "data": {
            "text/plain": [
              "numpy.ndarray"
            ]
          },
          "metadata": {},
          "execution_count": 55
        }
      ]
    },
    {
      "cell_type": "code",
      "source": [
        "# data types in a \n",
        "a.dtype"
      ],
      "metadata": {
        "colab": {
          "base_uri": "https://localhost:8080/"
        },
        "id": "RkQ-hhi5AjDq",
        "outputId": "0e15c6b1-0399-4091-f38e-68d05fc1cbde"
      },
      "execution_count": 56,
      "outputs": [
        {
          "output_type": "execute_result",
          "data": {
            "text/plain": [
              "dtype('int64')"
            ]
          },
          "metadata": {},
          "execution_count": 56
        }
      ]
    },
    {
      "cell_type": "code",
      "source": [
        "c = np.array([1,2,\"ame\", 3.14])\n",
        "c"
      ],
      "metadata": {
        "colab": {
          "base_uri": "https://localhost:8080/"
        },
        "id": "KqR5d3v8Axzb",
        "outputId": "187fa621-a7f8-4b63-d1e7-19f85919d8c6"
      },
      "execution_count": 57,
      "outputs": [
        {
          "output_type": "execute_result",
          "data": {
            "text/plain": [
              "array(['1', '2', 'ame', '3.14'], dtype='<U32')"
            ]
          },
          "metadata": {},
          "execution_count": 57
        }
      ]
    },
    {
      "cell_type": "code",
      "source": [
        "c.dtype"
      ],
      "metadata": {
        "colab": {
          "base_uri": "https://localhost:8080/"
        },
        "id": "_IsCnnF1A3pX",
        "outputId": "d2dee34e-3733-49e4-a62e-0151411f4c3b"
      },
      "execution_count": 58,
      "outputs": [
        {
          "output_type": "execute_result",
          "data": {
            "text/plain": [
              "dtype('<U32')"
            ]
          },
          "metadata": {},
          "execution_count": 58
        }
      ]
    },
    {
      "cell_type": "code",
      "source": [
        "arr1 = np.array([[1,2,3,1], [4,5,6,0]])\n",
        "arr1"
      ],
      "metadata": {
        "colab": {
          "base_uri": "https://localhost:8080/"
        },
        "id": "l7TuIzWuA5Wg",
        "outputId": "df45f037-7bba-4848-fb53-f2a812eca0e1"
      },
      "execution_count": 59,
      "outputs": [
        {
          "output_type": "execute_result",
          "data": {
            "text/plain": [
              "array([[1, 2, 3, 1],\n",
              "       [4, 5, 6, 0]])"
            ]
          },
          "metadata": {},
          "execution_count": 59
        }
      ]
    },
    {
      "cell_type": "code",
      "source": [
        "arr1.ndim"
      ],
      "metadata": {
        "colab": {
          "base_uri": "https://localhost:8080/"
        },
        "id": "tr81STikGb_V",
        "outputId": "f9348ed8-08fb-405d-d18f-fb7d141c4579"
      },
      "execution_count": 60,
      "outputs": [
        {
          "output_type": "execute_result",
          "data": {
            "text/plain": [
              "2"
            ]
          },
          "metadata": {},
          "execution_count": 60
        }
      ]
    },
    {
      "cell_type": "code",
      "source": [
        "# accessing elements in the array\n",
        "arr1[0,1]"
      ],
      "metadata": {
        "colab": {
          "base_uri": "https://localhost:8080/"
        },
        "id": "J68xR8KEGeVK",
        "outputId": "a31c2236-9363-4334-9dcd-6506ec78ef29"
      },
      "execution_count": 61,
      "outputs": [
        {
          "output_type": "execute_result",
          "data": {
            "text/plain": [
              "2"
            ]
          },
          "metadata": {},
          "execution_count": 61
        }
      ]
    },
    {
      "cell_type": "code",
      "source": [
        "# different dimentsions\n",
        "arr2 = np.array([[1,2,3], [4,5,6,7]])\n",
        "arr2"
      ],
      "metadata": {
        "colab": {
          "base_uri": "https://localhost:8080/"
        },
        "id": "FqGsC_f3GlBO",
        "outputId": "d52f35f3-3453-4df3-a656-17510dae04b7"
      },
      "execution_count": 62,
      "outputs": [
        {
          "output_type": "stream",
          "name": "stderr",
          "text": [
            "<ipython-input-62-a348b0e4c27a>:2: VisibleDeprecationWarning: Creating an ndarray from ragged nested sequences (which is a list-or-tuple of lists-or-tuples-or ndarrays with different lengths or shapes) is deprecated. If you meant to do this, you must specify 'dtype=object' when creating the ndarray.\n",
            "  arr2 = np.array([[1,2,3], [4,5,6,7]])\n"
          ]
        },
        {
          "output_type": "execute_result",
          "data": {
            "text/plain": [
              "array([list([1, 2, 3]), list([4, 5, 6, 7])], dtype=object)"
            ]
          },
          "metadata": {},
          "execution_count": 62
        }
      ]
    },
    {
      "cell_type": "code",
      "source": [
        "print(arr2)"
      ],
      "metadata": {
        "colab": {
          "base_uri": "https://localhost:8080/"
        },
        "id": "6Yag1dbbGsCb",
        "outputId": "9b4a9f97-8520-4ed8-ab88-f6e56e3bdd9b"
      },
      "execution_count": 63,
      "outputs": [
        {
          "output_type": "stream",
          "name": "stdout",
          "text": [
            "[list([1, 2, 3]) list([4, 5, 6, 7])]\n"
          ]
        }
      ]
    },
    {
      "cell_type": "code",
      "source": [
        "arr2[0][2]\n",
        "\n",
        "\"\"\" now we can't access the item using arr2[1,2]\"\"\""
      ],
      "metadata": {
        "colab": {
          "base_uri": "https://localhost:8080/",
          "height": 36
        },
        "id": "CaObyTlDGxLU",
        "outputId": "0c37d1ec-a20b-483d-e84c-01ed85e7c95a"
      },
      "execution_count": 64,
      "outputs": [
        {
          "output_type": "execute_result",
          "data": {
            "text/plain": [
              "\" now we can't access the item using arr2[1,2]\""
            ],
            "application/vnd.google.colaboratory.intrinsic+json": {
              "type": "string"
            }
          },
          "metadata": {},
          "execution_count": 64
        }
      ]
    },
    {
      "cell_type": "code",
      "source": [
        "# three dimensional array\n",
        "\n",
        "arr3 = np.array([[[1,2,3], [3,3,3], [0,10,20]], [[1,2,3], [3,3,3], [0,10,20]]])\n",
        "arr3"
      ],
      "metadata": {
        "colab": {
          "base_uri": "https://localhost:8080/"
        },
        "id": "RhXy4qt-G0l9",
        "outputId": "280972c4-4ab3-49f8-d4fa-26f2857df0ad"
      },
      "execution_count": 65,
      "outputs": [
        {
          "output_type": "execute_result",
          "data": {
            "text/plain": [
              "array([[[ 1,  2,  3],\n",
              "        [ 3,  3,  3],\n",
              "        [ 0, 10, 20]],\n",
              "\n",
              "       [[ 1,  2,  3],\n",
              "        [ 3,  3,  3],\n",
              "        [ 0, 10, 20]]])"
            ]
          },
          "metadata": {},
          "execution_count": 65
        }
      ]
    },
    {
      "cell_type": "code",
      "source": [
        "arr3.ndim"
      ],
      "metadata": {
        "colab": {
          "base_uri": "https://localhost:8080/"
        },
        "id": "4f_ZInMxMdzM",
        "outputId": "21786f87-0fa8-4ec5-fe1b-5c10157939f6"
      },
      "execution_count": 66,
      "outputs": [
        {
          "output_type": "execute_result",
          "data": {
            "text/plain": [
              "3"
            ]
          },
          "metadata": {},
          "execution_count": 66
        }
      ]
    },
    {
      "cell_type": "code",
      "source": [
        "arr3[1,2,1]"
      ],
      "metadata": {
        "colab": {
          "base_uri": "https://localhost:8080/"
        },
        "id": "2okEVOD-Mf2a",
        "outputId": "e85d15f2-068d-4e51-8cca-35e9201d118b"
      },
      "execution_count": 67,
      "outputs": [
        {
          "output_type": "execute_result",
          "data": {
            "text/plain": [
              "10"
            ]
          },
          "metadata": {},
          "execution_count": 67
        }
      ]
    },
    {
      "cell_type": "code",
      "source": [
        "arr3.shape"
      ],
      "metadata": {
        "colab": {
          "base_uri": "https://localhost:8080/"
        },
        "id": "6PMW6LZyMm_l",
        "outputId": "10ee0882-7967-482e-a1b7-1c7a0150dad9"
      },
      "execution_count": 68,
      "outputs": [
        {
          "output_type": "execute_result",
          "data": {
            "text/plain": [
              "(2, 3, 3)"
            ]
          },
          "metadata": {},
          "execution_count": 68
        }
      ]
    },
    {
      "cell_type": "code",
      "source": [
        "# total number of elemnts\n",
        "\n",
        "arr3.size"
      ],
      "metadata": {
        "colab": {
          "base_uri": "https://localhost:8080/"
        },
        "id": "M73sJcbPcQzb",
        "outputId": "b5e8f52e-764a-4abf-eb41-a405828c74b3"
      },
      "execution_count": 69,
      "outputs": [
        {
          "output_type": "execute_result",
          "data": {
            "text/plain": [
              "18"
            ]
          },
          "metadata": {},
          "execution_count": 69
        }
      ]
    },
    {
      "cell_type": "code",
      "source": [
        "# arrange method\n",
        "\n",
        "arr = np.arange(100)\n",
        "arr"
      ],
      "metadata": {
        "colab": {
          "base_uri": "https://localhost:8080/"
        },
        "id": "jWTbOMR0c48z",
        "outputId": "9bfba40c-b72f-46e0-e442-8f1b9013d9a7"
      },
      "execution_count": 70,
      "outputs": [
        {
          "output_type": "execute_result",
          "data": {
            "text/plain": [
              "array([ 0,  1,  2,  3,  4,  5,  6,  7,  8,  9, 10, 11, 12, 13, 14, 15, 16,\n",
              "       17, 18, 19, 20, 21, 22, 23, 24, 25, 26, 27, 28, 29, 30, 31, 32, 33,\n",
              "       34, 35, 36, 37, 38, 39, 40, 41, 42, 43, 44, 45, 46, 47, 48, 49, 50,\n",
              "       51, 52, 53, 54, 55, 56, 57, 58, 59, 60, 61, 62, 63, 64, 65, 66, 67,\n",
              "       68, 69, 70, 71, 72, 73, 74, 75, 76, 77, 78, 79, 80, 81, 82, 83, 84,\n",
              "       85, 86, 87, 88, 89, 90, 91, 92, 93, 94, 95, 96, 97, 98, 99])"
            ]
          },
          "metadata": {},
          "execution_count": 70
        }
      ]
    },
    {
      "cell_type": "code",
      "source": [
        "arr = np.arange(20,100,2)\n",
        "arr"
      ],
      "metadata": {
        "colab": {
          "base_uri": "https://localhost:8080/"
        },
        "id": "ni3wspA8hO-I",
        "outputId": "89cc8148-01f7-4194-ad18-09a8aba1387e"
      },
      "execution_count": 71,
      "outputs": [
        {
          "output_type": "execute_result",
          "data": {
            "text/plain": [
              "array([20, 22, 24, 26, 28, 30, 32, 34, 36, 38, 40, 42, 44, 46, 48, 50, 52,\n",
              "       54, 56, 58, 60, 62, 64, 66, 68, 70, 72, 74, 76, 78, 80, 82, 84, 86,\n",
              "       88, 90, 92, 94, 96, 98])"
            ]
          },
          "metadata": {},
          "execution_count": 71
        }
      ]
    },
    {
      "cell_type": "markdown",
      "source": [
        "np.random.permutation"
      ],
      "metadata": {
        "id": "JD_UzHUHid-7"
      }
    },
    {
      "cell_type": "code",
      "source": [
        "arr = np.random.permutation(np.arange(12))\n",
        "arr"
      ],
      "metadata": {
        "colab": {
          "base_uri": "https://localhost:8080/"
        },
        "id": "X5WOYiarhS8X",
        "outputId": "07d8d79b-ddf0-4aae-e072-1644f45a6862"
      },
      "execution_count": 72,
      "outputs": [
        {
          "output_type": "execute_result",
          "data": {
            "text/plain": [
              "array([ 0,  4,  3,  5,  9,  8, 10,  1,  7,  6,  2, 11])"
            ]
          },
          "metadata": {},
          "execution_count": 72
        }
      ]
    },
    {
      "cell_type": "code",
      "source": [
        "arr1 = np.random.randint(low=1, high=9, size=(3, 5))\n",
        "arr1"
      ],
      "metadata": {
        "colab": {
          "base_uri": "https://localhost:8080/"
        },
        "id": "tGWpLVOMmDW_",
        "outputId": "3db3aa63-4cdc-428a-8f53-0ae7c26d5a3b"
      },
      "execution_count": 73,
      "outputs": [
        {
          "output_type": "execute_result",
          "data": {
            "text/plain": [
              "array([[8, 4, 8, 7, 2],\n",
              "       [2, 8, 6, 2, 3],\n",
              "       [7, 1, 5, 8, 5]])"
            ]
          },
          "metadata": {},
          "execution_count": 73
        }
      ]
    },
    {
      "cell_type": "markdown",
      "source": [
        "generate random integers"
      ],
      "metadata": {
        "id": "YSkk9HT_kENb"
      }
    },
    {
      "cell_type": "code",
      "source": [
        "# randint\n",
        "\n",
        "arr = np.random.randint(15)\n",
        "arr"
      ],
      "metadata": {
        "colab": {
          "base_uri": "https://localhost:8080/"
        },
        "id": "RMjhX0oci753",
        "outputId": "595c8e2f-979f-49e2-8c68-e89c1c95da88"
      },
      "execution_count": 74,
      "outputs": [
        {
          "output_type": "execute_result",
          "data": {
            "text/plain": [
              "4"
            ]
          },
          "metadata": {},
          "execution_count": 74
        }
      ]
    },
    {
      "cell_type": "markdown",
      "source": [
        "random number between 0 and 1"
      ],
      "metadata": {
        "id": "8FpCDN0UlWZT"
      }
    },
    {
      "cell_type": "code",
      "source": [
        "arr = np.random.rand(200)\n",
        "arr"
      ],
      "metadata": {
        "colab": {
          "base_uri": "https://localhost:8080/"
        },
        "id": "c2zr6PABkKok",
        "outputId": "7bcc8698-c20e-4602-d24b-e2dccf1b4cba"
      },
      "execution_count": 75,
      "outputs": [
        {
          "output_type": "execute_result",
          "data": {
            "text/plain": [
              "array([0.38178544, 0.76098018, 0.72637035, 0.00281709, 0.44073606,\n",
              "       0.12990061, 0.46959608, 0.3552168 , 0.10534352, 0.1861193 ,\n",
              "       0.79345423, 0.21056424, 0.26735155, 0.46231244, 0.51490371,\n",
              "       0.95890184, 0.38983839, 0.61251504, 0.9288278 , 0.34688015,\n",
              "       0.59771049, 0.49529518, 0.41890151, 0.07660806, 0.40686999,\n",
              "       0.2526717 , 0.60465621, 0.99969886, 0.05219677, 0.69817781,\n",
              "       0.90812603, 0.66486077, 0.55937412, 0.93521099, 0.87022351,\n",
              "       0.0474309 , 0.5129099 , 0.93722135, 0.7848722 , 0.82103853,\n",
              "       0.68545713, 0.50916006, 0.73993155, 0.99947565, 0.88924685,\n",
              "       0.02616716, 0.25441297, 0.73124608, 0.39544856, 0.78387919,\n",
              "       0.48421613, 0.13971904, 0.67778391, 0.06885877, 0.65944629,\n",
              "       0.63556964, 0.36474779, 0.31405491, 0.91077208, 0.26353444,\n",
              "       0.61588227, 0.61578423, 0.60375488, 0.54450952, 0.12851375,\n",
              "       0.10131082, 0.79796812, 0.17372915, 0.01550531, 0.43621143,\n",
              "       0.65416007, 0.53973032, 0.35853012, 0.34496344, 0.54757673,\n",
              "       0.21976107, 0.46176348, 0.08588033, 0.9556522 , 0.12242066,\n",
              "       0.25914641, 0.30351666, 0.39593045, 0.80347783, 0.20063345,\n",
              "       0.7743592 , 0.41110202, 0.8840662 , 0.87758267, 0.12180021,\n",
              "       0.68852762, 0.18413337, 0.77779081, 0.60799242, 0.17478884,\n",
              "       0.73000774, 0.06746737, 0.99238922, 0.65982725, 0.94757311,\n",
              "       0.5185073 , 0.08060946, 0.76796177, 0.01511913, 0.63349974,\n",
              "       0.61207286, 0.30103541, 0.66196431, 0.50199675, 0.59720451,\n",
              "       0.16740473, 0.26339183, 0.8652585 , 0.87585994, 0.52986423,\n",
              "       0.3412207 , 0.41913046, 0.50571053, 0.98151326, 0.85298149,\n",
              "       0.49421543, 0.59436321, 0.30571713, 0.58728299, 0.66164644,\n",
              "       0.360307  , 0.27460568, 0.30146926, 0.8321808 , 0.33116887,\n",
              "       0.26219606, 0.27707452, 0.68207252, 0.50286992, 0.49958231,\n",
              "       0.72650427, 0.48126046, 0.19284123, 0.8652862 , 0.01473387,\n",
              "       0.71322951, 0.81661811, 0.84544683, 0.1401767 , 0.7079368 ,\n",
              "       0.23128246, 0.86620518, 0.36982187, 0.35574137, 0.36954005,\n",
              "       0.42562843, 0.33207799, 0.86548068, 0.06539562, 0.96853199,\n",
              "       0.66876378, 0.6558255 , 0.36324366, 0.69270356, 0.23367997,\n",
              "       0.36316191, 0.9401585 , 0.00695338, 0.02312806, 0.4301215 ,\n",
              "       0.09789729, 0.9475968 , 0.70758553, 0.82726997, 0.79897786,\n",
              "       0.70882112, 0.53379638, 0.92455025, 0.95296389, 0.37524579,\n",
              "       0.0639161 , 0.58215645, 0.13312571, 0.68207599, 0.57139278,\n",
              "       0.38234804, 0.43855159, 0.64299475, 0.85046874, 0.28010562,\n",
              "       0.5941626 , 0.50930773, 0.30323897, 0.63746417, 0.92087364,\n",
              "       0.17010366, 0.36074257, 0.25977963, 0.92669275, 0.37455532,\n",
              "       0.57507871, 0.25052038, 0.90262457, 0.26617357, 0.80081217])"
            ]
          },
          "metadata": {},
          "execution_count": 75
        }
      ]
    },
    {
      "cell_type": "code",
      "source": [
        "# .rand produces random numbers from a uniform distribution\n",
        "\n",
        "import matplotlib.pyplot as plt\n",
        "\n",
        "plt.hist(arr)"
      ],
      "metadata": {
        "colab": {
          "base_uri": "https://localhost:8080/",
          "height": 352
        },
        "id": "kXCttIOOl24r",
        "outputId": "b6a61cf8-65a0-4834-cbc1-062957330534"
      },
      "execution_count": 76,
      "outputs": [
        {
          "output_type": "execute_result",
          "data": {
            "text/plain": [
              "(array([18., 16., 19., 26., 17., 22., 26., 18., 18., 20.]),\n",
              " array([0.00281709, 0.10250526, 0.20219344, 0.30188162, 0.40156979,\n",
              "        0.50125797, 0.60094615, 0.70063433, 0.8003225 , 0.90001068,\n",
              "        0.99969886]),\n",
              " <a list of 10 Patch objects>)"
            ]
          },
          "metadata": {},
          "execution_count": 76
        },
        {
          "output_type": "display_data",
          "data": {
            "text/plain": [
              "<Figure size 432x288 with 1 Axes>"
            ],
            "image/png": "[encoded data removed]"
          },
          "metadata": {
            "needs_background": "light"
          }
        }
      ]
    },
    {
      "cell_type": "code",
      "source": [
        "# random data from normal distribution -> .randn\n",
        "\n",
        "arr = np.random.randn(200)\n",
        "plt.hist(arr)"
      ],
      "metadata": {
        "colab": {
          "base_uri": "https://localhost:8080/",
          "height": 352
        },
        "id": "sIOJliyfop94",
        "outputId": "336c170f-f351-48e1-e6f6-947c7435e64e"
      },
      "execution_count": 77,
      "outputs": [
        {
          "output_type": "execute_result",
          "data": {
            "text/plain": [
              "(array([ 5.,  7., 12., 30., 36., 41., 34., 18., 10.,  7.]),\n",
              " array([-2.60348314, -2.09565757, -1.587832  , -1.08000643, -0.57218086,\n",
              "        -0.06435529,  0.44347028,  0.95129584,  1.45912141,  1.96694698,\n",
              "         2.47477255]),\n",
              " <a list of 10 Patch objects>)"
            ]
          },
          "metadata": {},
          "execution_count": 77
        },
        {
          "output_type": "display_data",
          "data": {
            "text/plain": [
              "<Figure size 432x288 with 1 Axes>"
            ],
            "image/png": "[encoded data removed]"
          },
          "metadata": {
            "needs_background": "light"
          }
        }
      ]
    },
    {
      "cell_type": "markdown",
      "source": [
        "Slicing array in numpy"
      ],
      "metadata": {
        "id": "Adpr_K0CvNyE"
      }
    },
    {
      "cell_type": "code",
      "source": [
        "arr = np.arange(60)\n",
        "arr"
      ],
      "metadata": {
        "id": "DC016VR6pcNn",
        "colab": {
          "base_uri": "https://localhost:8080/"
        },
        "outputId": "c503c08c-f65d-4926-9f40-999d801fe48c"
      },
      "execution_count": 78,
      "outputs": [
        {
          "output_type": "execute_result",
          "data": {
            "text/plain": [
              "array([ 0,  1,  2,  3,  4,  5,  6,  7,  8,  9, 10, 11, 12, 13, 14, 15, 16,\n",
              "       17, 18, 19, 20, 21, 22, 23, 24, 25, 26, 27, 28, 29, 30, 31, 32, 33,\n",
              "       34, 35, 36, 37, 38, 39, 40, 41, 42, 43, 44, 45, 46, 47, 48, 49, 50,\n",
              "       51, 52, 53, 54, 55, 56, 57, 58, 59])"
            ]
          },
          "metadata": {},
          "execution_count": 78
        }
      ]
    },
    {
      "cell_type": "code",
      "source": [
        "# slicing from the begening to the end with 5 step\n",
        "\n",
        "arr[::5]"
      ],
      "metadata": {
        "colab": {
          "base_uri": "https://localhost:8080/"
        },
        "id": "H2IO22BgvSit",
        "outputId": "b2c0bc5f-8844-4171-e989-f4178054c7fe"
      },
      "execution_count": 79,
      "outputs": [
        {
          "output_type": "execute_result",
          "data": {
            "text/plain": [
              "array([ 0,  5, 10, 15, 20, 25, 30, 35, 40, 45, 50, 55])"
            ]
          },
          "metadata": {},
          "execution_count": 79
        }
      ]
    },
    {
      "cell_type": "code",
      "source": [
        "# slicing from the end to the begining with 5 step\n",
        "\n",
        "arr[::-5]"
      ],
      "metadata": {
        "colab": {
          "base_uri": "https://localhost:8080/"
        },
        "id": "W_eob2zEvY1y",
        "outputId": "97ac1448-24d2-4b96-f968-10a1eb702ea2"
      },
      "execution_count": 80,
      "outputs": [
        {
          "output_type": "execute_result",
          "data": {
            "text/plain": [
              "array([59, 54, 49, 44, 39, 34, 29, 24, 19, 14,  9,  4])"
            ]
          },
          "metadata": {},
          "execution_count": 80
        }
      ]
    },
    {
      "cell_type": "code",
      "source": [
        "# checking if an item in in np array\n",
        "\n",
        "b = arr==40\n",
        "b"
      ],
      "metadata": {
        "colab": {
          "base_uri": "https://localhost:8080/"
        },
        "id": "LI3olKAWvdzf",
        "outputId": "c2a000f8-d96c-4b0b-8cae-2b8d274f8f9e"
      },
      "execution_count": 81,
      "outputs": [
        {
          "output_type": "execute_result",
          "data": {
            "text/plain": [
              "array([False, False, False, False, False, False, False, False, False,\n",
              "       False, False, False, False, False, False, False, False, False,\n",
              "       False, False, False, False, False, False, False, False, False,\n",
              "       False, False, False, False, False, False, False, False, False,\n",
              "       False, False, False, False,  True, False, False, False, False,\n",
              "       False, False, False, False, False, False, False, False, False,\n",
              "       False, False, False, False, False, False])"
            ]
          },
          "metadata": {},
          "execution_count": 81
        }
      ]
    },
    {
      "cell_type": "code",
      "source": [
        "b = b*np.arange(b.size)\n",
        "b"
      ],
      "metadata": {
        "colab": {
          "base_uri": "https://localhost:8080/"
        },
        "id": "f3sj_KqhweGY",
        "outputId": "07e752a2-abf6-48d6-e4d7-08ad8e2fecf8"
      },
      "execution_count": 82,
      "outputs": [
        {
          "output_type": "execute_result",
          "data": {
            "text/plain": [
              "array([ 0,  0,  0,  0,  0,  0,  0,  0,  0,  0,  0,  0,  0,  0,  0,  0,  0,\n",
              "        0,  0,  0,  0,  0,  0,  0,  0,  0,  0,  0,  0,  0,  0,  0,  0,  0,\n",
              "        0,  0,  0,  0,  0,  0, 40,  0,  0,  0,  0,  0,  0,  0,  0,  0,  0,\n",
              "        0,  0,  0,  0,  0,  0,  0,  0,  0])"
            ]
          },
          "metadata": {},
          "execution_count": 82
        }
      ]
    },
    {
      "cell_type": "code",
      "source": [
        "np.where?"
      ],
      "metadata": {
        "id": "JWsmb7vqwk-G"
      },
      "execution_count": 83,
      "outputs": []
    },
    {
      "cell_type": "code",
      "source": [
        "np.where(arr==40)"
      ],
      "metadata": {
        "colab": {
          "base_uri": "https://localhost:8080/"
        },
        "id": "u-0NnjAPw1il",
        "outputId": "d74da7ec-ce31-473d-f794-c66fb21a20d0"
      },
      "execution_count": 84,
      "outputs": [
        {
          "output_type": "execute_result",
          "data": {
            "text/plain": [
              "(array([40]),)"
            ]
          },
          "metadata": {},
          "execution_count": 84
        }
      ]
    },
    {
      "cell_type": "code",
      "source": [
        "indx = np.argwhere(arr==40)\n",
        "indx"
      ],
      "metadata": {
        "colab": {
          "base_uri": "https://localhost:8080/"
        },
        "id": "cU3rGImcw-lT",
        "outputId": "4e0f6614-c3e4-43c6-8561-b0f7d5a2f228"
      },
      "execution_count": 85,
      "outputs": [
        {
          "output_type": "execute_result",
          "data": {
            "text/plain": [
              "array([[40]])"
            ]
          },
          "metadata": {},
          "execution_count": 85
        }
      ]
    },
    {
      "cell_type": "code",
      "source": [
        "indx = np.argwhere(arr==40)[0][0]\n",
        "indx"
      ],
      "metadata": {
        "colab": {
          "base_uri": "https://localhost:8080/"
        },
        "id": "h-kOnu2hxjJk",
        "outputId": "3a3cb912-6579-4104-ab14-44d0a412a427"
      },
      "execution_count": 86,
      "outputs": [
        {
          "output_type": "execute_result",
          "data": {
            "text/plain": [
              "40"
            ]
          },
          "metadata": {},
          "execution_count": 86
        }
      ]
    },
    {
      "cell_type": "code",
      "source": [
        "arr[indx] = 9999999\n",
        "arr"
      ],
      "metadata": {
        "colab": {
          "base_uri": "https://localhost:8080/"
        },
        "id": "hhO3SXlFxm6-",
        "outputId": "2cdb9673-3320-46b9-e906-42f3496192a9"
      },
      "execution_count": 87,
      "outputs": [
        {
          "output_type": "execute_result",
          "data": {
            "text/plain": [
              "array([      0,       1,       2,       3,       4,       5,       6,\n",
              "             7,       8,       9,      10,      11,      12,      13,\n",
              "            14,      15,      16,      17,      18,      19,      20,\n",
              "            21,      22,      23,      24,      25,      26,      27,\n",
              "            28,      29,      30,      31,      32,      33,      34,\n",
              "            35,      36,      37,      38,      39, 9999999,      41,\n",
              "            42,      43,      44,      45,      46,      47,      48,\n",
              "            49,      50,      51,      52,      53,      54,      55,\n",
              "            56,      57,      58,      59])"
            ]
          },
          "metadata": {},
          "execution_count": 87
        }
      ]
    },
    {
      "cell_type": "code",
      "source": [
        "arr = np.round(10*np.random.rand(3,5))\n",
        "arr"
      ],
      "metadata": {
        "colab": {
          "base_uri": "https://localhost:8080/"
        },
        "id": "tzrL8IElxvKx",
        "outputId": "4769b16b-7fd6-4fb0-f1cc-2f20b9980934"
      },
      "execution_count": 88,
      "outputs": [
        {
          "output_type": "execute_result",
          "data": {
            "text/plain": [
              "array([[5., 1., 2., 5., 4.],\n",
              "       [1., 7., 2., 9., 9.],\n",
              "       [7., 0., 8., 1., 9.]])"
            ]
          },
          "metadata": {},
          "execution_count": 88
        }
      ]
    },
    {
      "cell_type": "code",
      "source": [
        "arr[1,2]"
      ],
      "metadata": {
        "colab": {
          "base_uri": "https://localhost:8080/"
        },
        "id": "KOwi-qN-yDP1",
        "outputId": "1d89d451-2920-4f07-bf6a-8ec284803873"
      },
      "execution_count": 89,
      "outputs": [
        {
          "output_type": "execute_result",
          "data": {
            "text/plain": [
              "2.0"
            ]
          },
          "metadata": {},
          "execution_count": 89
        }
      ]
    },
    {
      "cell_type": "code",
      "source": [
        "arr[1,:]"
      ],
      "metadata": {
        "colab": {
          "base_uri": "https://localhost:8080/"
        },
        "id": "DNYrnydiyy0c",
        "outputId": "fd19d062-dfff-45f9-d7c5-43a6343c3f0c"
      },
      "execution_count": 90,
      "outputs": [
        {
          "output_type": "execute_result",
          "data": {
            "text/plain": [
              "array([1., 7., 2., 9., 9.])"
            ]
          },
          "metadata": {},
          "execution_count": 90
        }
      ]
    },
    {
      "cell_type": "code",
      "source": [
        "arr[:,2]"
      ],
      "metadata": {
        "colab": {
          "base_uri": "https://localhost:8080/"
        },
        "id": "fKnHSAkqy3qm",
        "outputId": "59c3b92b-cd69-4ba4-fcfd-4d7de798a6fe"
      },
      "execution_count": 91,
      "outputs": [
        {
          "output_type": "execute_result",
          "data": {
            "text/plain": [
              "array([2., 2., 8.])"
            ]
          },
          "metadata": {},
          "execution_count": 91
        }
      ]
    },
    {
      "cell_type": "code",
      "source": [
        "arr = np.round(10*np.random.randn(5,7))\n",
        "arr"
      ],
      "metadata": {
        "colab": {
          "base_uri": "https://localhost:8080/"
        },
        "id": "u6x3donTy5ip",
        "outputId": "5f0f1596-3512-4114-974a-cbf9f39b7e3b"
      },
      "execution_count": 92,
      "outputs": [
        {
          "output_type": "execute_result",
          "data": {
            "text/plain": [
              "array([[-13.,  -4.,   1.,   7., -10.,  25.,  -1.],\n",
              "       [ -4.,  -8.,   6.,  19.,   4.,  11.,   2.],\n",
              "       [ 20.,  12.,   7., -12., -15.,   5.,  -1.],\n",
              "       [  2.,  -2.,  -1.,  -5.,   4.,  -5.,  -8.],\n",
              "       [-17.,   7.,  16.,  16.,  -7.,  19.,  -6.]])"
            ]
          },
          "metadata": {},
          "execution_count": 92
        }
      ]
    },
    {
      "cell_type": "code",
      "source": [
        "# accessing a submatrix\n",
        "\n",
        "arr[1:3,2:]"
      ],
      "metadata": {
        "colab": {
          "base_uri": "https://localhost:8080/"
        },
        "id": "PbyuVXxazLwG",
        "outputId": "c32af536-21e2-4c60-c331-bd6aba329a5a"
      },
      "execution_count": 93,
      "outputs": [
        {
          "output_type": "execute_result",
          "data": {
            "text/plain": [
              "array([[  6.,  19.,   4.,  11.,   2.],\n",
              "       [  7., -12., -15.,   5.,  -1.]])"
            ]
          },
          "metadata": {},
          "execution_count": 93
        }
      ]
    },
    {
      "cell_type": "code",
      "source": [
        "# sort the mattrix according to columns\n",
        "\n",
        "arr.sort(axis=0)\n",
        "arr"
      ],
      "metadata": {
        "colab": {
          "base_uri": "https://localhost:8080/"
        },
        "id": "0Qd6KNFwzSyX",
        "outputId": "69c1348d-3462-4656-df9f-b0996b8c1597"
      },
      "execution_count": 95,
      "outputs": [
        {
          "output_type": "execute_result",
          "data": {
            "text/plain": [
              "array([[-17.,  -8.,  -1., -12., -15.,  -5.,  -8.],\n",
              "       [-13.,  -4.,   1.,  -5., -10.,   5.,  -6.],\n",
              "       [ -4.,  -2.,   6.,   7.,  -7.,  11.,  -1.],\n",
              "       [  2.,   7.,   7.,  16.,   4.,  19.,  -1.],\n",
              "       [ 20.,  12.,  16.,  19.,   4.,  25.,   2.]])"
            ]
          },
          "metadata": {},
          "execution_count": 95
        }
      ]
    },
    {
      "cell_type": "code",
      "source": [
        "# separating specific indeces from array\n",
        "\n",
        "arr = np.arange(30)\n",
        "print(arr)\n",
        "\n",
        "arr[[1,15,28]]"
      ],
      "metadata": {
        "colab": {
          "base_uri": "https://localhost:8080/"
        },
        "id": "xNgKT4J7FP3o",
        "outputId": "e0c0e63c-9fd0-4872-da83-033ba7500565"
      },
      "execution_count": 99,
      "outputs": [
        {
          "output_type": "stream",
          "name": "stdout",
          "text": [
            "[ 0  1  2  3  4  5  6  7  8  9 10 11 12 13 14 15 16 17 18 19 20 21 22 23\n",
            " 24 25 26 27 28 29]\n"
          ]
        },
        {
          "output_type": "execute_result",
          "data": {
            "text/plain": [
              "array([ 1, 15, 28])"
            ]
          },
          "metadata": {},
          "execution_count": 99
        }
      ]
    },
    {
      "cell_type": "code",
      "source": [
        "# items with specific conditions\n",
        "\n",
        "arr = np.round(10*np.random.randn(20))\n",
        "print(arr)\n",
        "arr[arr<-8]"
      ],
      "metadata": {
        "colab": {
          "base_uri": "https://localhost:8080/"
        },
        "id": "ApQoi2qwGBH6",
        "outputId": "6e43b889-e819-4c8b-faa6-2664def2e5f5"
      },
      "execution_count": 105,
      "outputs": [
        {
          "output_type": "stream",
          "name": "stdout",
          "text": [
            "[ 23.   1.  -1.   5.   9.  -6.  -9. -14.  -3.  -7.  24. -12.   1.  -2.\n",
            "   1. -13.  -4.   9.  -5.   9.]\n"
          ]
        },
        {
          "output_type": "execute_result",
          "data": {
            "text/plain": [
              "array([ -9., -14., -12., -13.])"
            ]
          },
          "metadata": {},
          "execution_count": 105
        }
      ]
    },
    {
      "cell_type": "code",
      "source": [
        "arr = np.arange(50)\n",
        "np.where((arr > 2) & (arr < 8))"
      ],
      "metadata": {
        "colab": {
          "base_uri": "https://localhost:8080/"
        },
        "id": "C0FhHiNaGoze",
        "outputId": "27de22a4-21f4-48f4-bf76-717d034ffe5f"
      },
      "execution_count": 118,
      "outputs": [
        {
          "output_type": "execute_result",
          "data": {
            "text/plain": [
              "(array([3, 4, 5, 6, 7]),)"
            ]
          },
          "metadata": {},
          "execution_count": 118
        }
      ]
    },
    {
      "cell_type": "markdown",
      "source": [
        "It is not working for me:\n",
        "arr[arr<10 & arr>20]"
      ],
      "metadata": {
        "id": "wR7DdfRDKW_2"
      }
    },
    {
      "cell_type": "code",
      "source": [
        "arr[(arr<10) & (arr>1)]"
      ],
      "metadata": {
        "colab": {
          "base_uri": "https://localhost:8080/"
        },
        "id": "lUyWgb1XHGr0",
        "outputId": "80a80fb0-d93c-4999-a45f-94012f3a09d5"
      },
      "execution_count": 120,
      "outputs": [
        {
          "output_type": "execute_result",
          "data": {
            "text/plain": [
              "array([2, 3, 4, 5, 6, 7, 8, 9])"
            ]
          },
          "metadata": {},
          "execution_count": 120
        }
      ]
    },
    {
      "cell_type": "markdown",
      "source": [
        "Numpy( hstack, vstack, sort )"
      ],
      "metadata": {
        "id": "szHLEFOBMxm9"
      }
    },
    {
      "cell_type": "code",
      "source": [],
      "metadata": {
        "id": "_AfXqpqBKszC"
      },
      "execution_count": null,
      "outputs": []
    }
  ]
}